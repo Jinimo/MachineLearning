{
  "nbformat": 4,
  "nbformat_minor": 0,
  "metadata": {
    "colab": {
      "name": "0422_2_Model Selection",
      "provenance": [],
      "collapsed_sections": []
    },
    "kernelspec": {
      "name": "python3",
      "display_name": "Python 3"
    },
    "language_info": {
      "name": "python"
    }
  },
  "cells": [
    {
      "cell_type": "markdown",
      "source": [
        "# Model Selsction 모듈\n"
      ],
      "metadata": {
        "id": "m7I2hxFmvOBK"
      }
    },
    {
      "cell_type": "markdown",
      "source": [
        "- 훈련 데이터와 테스트 데이터로 분리하지 않고 머신러닝 수행"
      ],
      "metadata": {
        "id": "yVImdx_zvSRy"
      }
    },
    {
      "cell_type": "code",
      "execution_count": 1,
      "metadata": {
        "id": "r2jxhmQgvEI2"
      },
      "outputs": [],
      "source": [
        "from sklearn.datasets import load_iris\n",
        "from sklearn.tree import DecisionTreeClassifier"
      ]
    },
    {
      "cell_type": "code",
      "source": [
        "iris = load_iris()\n",
        "dtc = DecisionTreeClassifier(random_state=2022)\n",
        "dtc.fit(iris.data, iris.target )\n",
        "dtc.score(iris.data,iris.target  )\n",
        "# 결과 => 1.0 = 100% \n",
        "# 100%면 의심할 필요 있음 \n",
        "# 분류 = 암기 \n",
        "# 분류하는 로직을 보는것이 아닌 암기하는 과정을 보는것\n",
        "# 이렇게 하면 무조건 틀림,,,, 안돼,,, \n",
        "# 반드시 학습과 데이터 세트를 분리 해주어야 함!!"
      ],
      "metadata": {
        "colab": {
          "base_uri": "https://localhost:8080/"
        },
        "id": "eEoDM5LCvoVA",
        "outputId": "2187a5b4-7ae3-4e6b-9148-9402ab759bf7"
      },
      "execution_count": 2,
      "outputs": [
        {
          "output_type": "execute_result",
          "data": {
            "text/plain": [
              "1.0"
            ]
          },
          "metadata": {},
          "execution_count": 2
        }
      ]
    },
    {
      "cell_type": "markdown",
      "source": [
        "학습/테스트 데이터 세트 분리 – `train_test_split()`\n",
        "- `test_size`: 디폴트는 0.25\n",
        "- `train_size`\n",
        "- `shuffle`: 데이터를 분리하기 전에 데이터를 미리 섞을지를 결정. 디폴트는 True - `stratif`y: 학습 데이터의 y 값의 분포를 균등하게 만들어줌 (** 항상 세팅해줘야하는 옵션!!!)\n",
        "- `random_state`\n",
        "- 반환 값: 튜플 형태\n",
        "  - 학습용 데이터의 피쳐 데이터 세트(X_train)\n",
        "  - 테스트용 데이터의 피쳐 데이터 세트(X_test)\n",
        "  - 학습용 데이터의 레이블 데이터 세트(y_train)\n",
        "  - 테스트용 데이터의 레이블 데이터 세트(y_test)"
      ],
      "metadata": {
        "id": "7o_lGR2Zwppo"
      }
    },
    {
      "cell_type": "markdown",
      "source": [
        "- 교차 검증: `cross_validate()` + 평가\n",
        "- 교차 검증 후 평가까지: `cross_val_score()` "
      ],
      "metadata": {
        "id": "gLySZ-jCyIdF"
      }
    },
    {
      "cell_type": "code",
      "source": [
        "from sklearn.model_selection import cross_val_score # 이 자체로는 사용 잘 안함 \n",
        "\n",
        "cross_val_score(dtc, iris.data, iris.target, scoring='accuracy', cv=5 ) # (모델, x, y , 방법, 몇겹 할건지)"
      ],
      "metadata": {
        "colab": {
          "base_uri": "https://localhost:8080/"
        },
        "id": "yFxguGPAv6hz",
        "outputId": "e1688240-3450-40c3-cdef-d32491ce5ade"
      },
      "execution_count": 4,
      "outputs": [
        {
          "output_type": "execute_result",
          "data": {
            "text/plain": [
              "array([0.96666667, 0.96666667, 0.9       , 0.93333333, 1.        ])"
            ]
          },
          "metadata": {},
          "execution_count": 4
        }
      ]
    },
    {
      "cell_type": "code",
      "source": [
        "cross_val_score(dtc, iris.data, iris.target, scoring='accuracy', cv=5 ).mean()"
      ],
      "metadata": {
        "colab": {
          "base_uri": "https://localhost:8080/"
        },
        "id": "N8jomK2Byg6u",
        "outputId": "e35d3deb-c0e4-4ed2-8d44-452e18a4a0d8"
      },
      "execution_count": 5,
      "outputs": [
        {
          "output_type": "execute_result",
          "data": {
            "text/plain": [
              "0.9533333333333334"
            ]
          },
          "metadata": {},
          "execution_count": 5
        }
      ]
    },
    {
      "cell_type": "markdown",
      "source": [
        "`GridSearchCV` \n",
        "- 교차 검증과 최적의 하이퍼 파라미터 튜닝 한번에 가능 \n",
        "- 하이퍼 파라미터\n",
        " - Classifier나 Regressor에 사용되는 하이퍼 파라미터\n",
        " - 예측성능개선에도움을줌  GridSearchCV의 파라미터\n",
        " - estimator: classifier, regressor, pipeline\n",
        " -  param_grid: 튜닝을 위해 파라미터명과 사용될 여러가지 \n",
        "\n",
        "- 파라미터값을 지정\n",
        " - scoring: 예측 성능을 측정할 평가 방법\n",
        " - cv: 교차 검증을 위한 학습/테스트 세트의 갯수\n",
        " - refit: 최적의 하이퍼 파라미터를 찾은 뒤, 입력된 estimator 객체를 재학습, 디폴트는 True"
      ],
      "metadata": {
        "id": "hvbad1mx0Un3"
      }
    },
    {
      "cell_type": "code",
      "source": [
        "dtc.get_params()\n",
        "# max_depth / min_samples_split / min_samples_split 가장 많이쓰는 것 \n",
        "# 예시) 3,4,5,6 / 1,2 / 2,3 = 16 경우 + 교차검증=5 => 총 80"
      ],
      "metadata": {
        "colab": {
          "base_uri": "https://localhost:8080/"
        },
        "id": "eBBgiL1JzFLJ",
        "outputId": "795ec825-9a71-4440-8165-bba84fad6f62"
      },
      "execution_count": 6,
      "outputs": [
        {
          "output_type": "execute_result",
          "data": {
            "text/plain": [
              "{'ccp_alpha': 0.0,\n",
              " 'class_weight': None,\n",
              " 'criterion': 'gini',\n",
              " 'max_depth': None,\n",
              " 'max_features': None,\n",
              " 'max_leaf_nodes': None,\n",
              " 'min_impurity_decrease': 0.0,\n",
              " 'min_samples_leaf': 1,\n",
              " 'min_samples_split': 2,\n",
              " 'min_weight_fraction_leaf': 0.0,\n",
              " 'random_state': 2022,\n",
              " 'splitter': 'best'}"
            ]
          },
          "metadata": {},
          "execution_count": 6
        }
      ]
    },
    {
      "cell_type": "code",
      "source": [
        "# Train/Test dataset 분리\n",
        "from sklearn.model_selection import train_test_split\n",
        "\n",
        "X_train, X_test, y_train, y_test = train_test_split(iris.data, iris.target, \n",
        "                                                    stratify=iris.target, test_size=0.2, random_state=2022)"
      ],
      "metadata": {
        "id": "Gaz7g2F6zUJD"
      },
      "execution_count": 7,
      "outputs": []
    },
    {
      "cell_type": "code",
      "source": [
        "# 분류와 그에 해당하는 하이퍼 파라미터\n",
        "dtc = DecisionTreeClassifier(random_state=2022)\n",
        "dtc.get_params()"
      ],
      "metadata": {
        "colab": {
          "base_uri": "https://localhost:8080/"
        },
        "id": "AluuBlsk4nkK",
        "outputId": "c4d7c827-c92c-4469-a3ab-eda3d61392b1"
      },
      "execution_count": 8,
      "outputs": [
        {
          "output_type": "execute_result",
          "data": {
            "text/plain": [
              "{'ccp_alpha': 0.0,\n",
              " 'class_weight': None,\n",
              " 'criterion': 'gini',\n",
              " 'max_depth': None,\n",
              " 'max_features': None,\n",
              " 'max_leaf_nodes': None,\n",
              " 'min_impurity_decrease': 0.0,\n",
              " 'min_samples_leaf': 1,\n",
              " 'min_samples_split': 2,\n",
              " 'min_weight_fraction_leaf': 0.0,\n",
              " 'random_state': 2022,\n",
              " 'splitter': 'best'}"
            ]
          },
          "metadata": {},
          "execution_count": 8
        }
      ]
    },
    {
      "cell_type": "code",
      "source": [
        "# parameter들 dictionary 형태로 설정 \n",
        "params={'max_depth':[2,3,4,5,6], \n",
        "        'min_samples_split':[2,3,4]\n",
        "        }"
      ],
      "metadata": {
        "id": "zf76mzlG4_v0"
      },
      "execution_count": 9,
      "outputs": []
    },
    {
      "cell_type": "code",
      "source": [
        "from sklearn.model_selection import GridSearchCV\n",
        "# param_grid의 파라미터들 -> 5개의 train/test dataset로 나누어서 테스트 수행 설정 \n",
        "grid_dt = GridSearchCV(dtc, param_grid=params, scoring=\"accuracy\", cv=5)\n",
        "# param_grid의 하이퍼 파라미터들을 순차적으로 학습/평가\n",
        "grid_dt.fit(X_train, y_train)"
      ],
      "metadata": {
        "colab": {
          "base_uri": "https://localhost:8080/"
        },
        "id": "RVG-Yq2m5b3m",
        "outputId": "a59e33d9-4c54-40ec-9d5c-e8c757d15765"
      },
      "execution_count": 10,
      "outputs": [
        {
          "output_type": "execute_result",
          "data": {
            "text/plain": [
              "GridSearchCV(cv=5, estimator=DecisionTreeClassifier(random_state=2022),\n",
              "             param_grid={'max_depth': [2, 3, 4, 5, 6],\n",
              "                         'min_samples_split': [2, 3, 4]},\n",
              "             scoring='accuracy')"
            ]
          },
          "metadata": {},
          "execution_count": 10
        }
      ]
    },
    {
      "cell_type": "code",
      "source": [
        "# best params\n",
        "grid_dt.best_params_"
      ],
      "metadata": {
        "colab": {
          "base_uri": "https://localhost:8080/"
        },
        "id": "2K_90xGI6EMf",
        "outputId": "96cfa322-a55d-48bd-d1a4-321bb8954731"
      },
      "execution_count": 11,
      "outputs": [
        {
          "output_type": "execute_result",
          "data": {
            "text/plain": [
              "{'max_depth': 3, 'min_samples_split': 2}"
            ]
          },
          "metadata": {},
          "execution_count": 11
        }
      ]
    },
    {
      "cell_type": "code",
      "source": [
        "# best score \n",
        "grid_dt.best_score_"
      ],
      "metadata": {
        "colab": {
          "base_uri": "https://localhost:8080/"
        },
        "id": "nLRsx5tc7Tqy",
        "outputId": "2ba4afc4-135a-45d0-b6cc-bcae836434e8"
      },
      "execution_count": 12,
      "outputs": [
        {
          "output_type": "execute_result",
          "data": {
            "text/plain": [
              "0.9916666666666666"
            ]
          },
          "metadata": {},
          "execution_count": 12
        }
      ]
    },
    {
      "cell_type": "code",
      "source": [
        "# 최적의 분류기\n",
        "#dtc_best = DecisionTreeClassifier(max_depth=3, min_samples_split=2, random_state=2022)\n",
        "dtc_best = grid_dt.best_estimator_ # 동일한 코드. 위 코드보다 이게 더 편해"
      ],
      "metadata": {
        "id": "y44tIlr27c8U"
      },
      "execution_count": 13,
      "outputs": []
    },
    {
      "cell_type": "code",
      "source": [
        "# 최적의 분류기로 예측 및 평가\n",
        "dtc_best.score(X_test, y_test)"
      ],
      "metadata": {
        "colab": {
          "base_uri": "https://localhost:8080/"
        },
        "id": "Wh498h-i7ygi",
        "outputId": "7ccd00c1-b418-435b-ebce-280160446dea"
      },
      "execution_count": 17,
      "outputs": [
        {
          "output_type": "execute_result",
          "data": {
            "text/plain": [
              "0.9333333333333333"
            ]
          },
          "metadata": {},
          "execution_count": 17
        }
      ]
    },
    {
      "cell_type": "markdown",
      "source": [
        "`SVM`"
      ],
      "metadata": {
        "id": "--kyVJxf8StU"
      }
    },
    {
      "cell_type": "code",
      "source": [
        "from sklearn.svm import SVC\n",
        "\n",
        "svc = SVC(random_state=2022)\n",
        "svc.get_params()\n",
        "# C = 1.0 -> 0.01, 0.1 등의 값도 가능 ?"
      ],
      "metadata": {
        "colab": {
          "base_uri": "https://localhost:8080/"
        },
        "id": "6Ws4xWaf7_AL",
        "outputId": "5cdf2da7-57bb-4305-cdbe-a1fa691b4a36"
      },
      "execution_count": 19,
      "outputs": [
        {
          "output_type": "execute_result",
          "data": {
            "text/plain": [
              "{'C': 1.0,\n",
              " 'break_ties': False,\n",
              " 'cache_size': 200,\n",
              " 'class_weight': None,\n",
              " 'coef0': 0.0,\n",
              " 'decision_function_shape': 'ovr',\n",
              " 'degree': 3,\n",
              " 'gamma': 'scale',\n",
              " 'kernel': 'rbf',\n",
              " 'max_iter': -1,\n",
              " 'probability': False,\n",
              " 'random_state': 2022,\n",
              " 'shrinking': True,\n",
              " 'tol': 0.001,\n",
              " 'verbose': False}"
            ]
          },
          "metadata": {},
          "execution_count": 19
        }
      ]
    },
    {
      "cell_type": "code",
      "source": [
        "params = {'C':[0.01, 0.1, 1, 10, 100]}\n",
        "grid_sv = GridSearchCV(svc, params, scoring=\"accuracy\", cv=5)"
      ],
      "metadata": {
        "id": "9_ZYIwxc8k5w"
      },
      "execution_count": 21,
      "outputs": []
    },
    {
      "cell_type": "code",
      "source": [
        "grid_sv.fit(X_train, y_train)\n",
        "grid_sv.best_params_"
      ],
      "metadata": {
        "colab": {
          "base_uri": "https://localhost:8080/"
        },
        "id": "zezDfBXC9Apd",
        "outputId": "157e0a4d-ca63-4373-92f9-6a172148f41f"
      },
      "execution_count": 22,
      "outputs": [
        {
          "output_type": "execute_result",
          "data": {
            "text/plain": [
              "{'C': 1}"
            ]
          },
          "metadata": {},
          "execution_count": 22
        }
      ]
    },
    {
      "cell_type": "code",
      "source": [
        "# 범위를 좁혀가면서 파라미터를 찾음_1\n",
        "params = {'C':[0.2, 0.6,  1, 4, 8]}\n",
        "grid_sv = GridSearchCV(svc, params, scoring=\"accuracy\", cv=5)\n",
        "grid_sv.fit(X_train, y_train)\n",
        "grid_sv.best_params_\n",
        "#=> 4가 오히려 베스트!? "
      ],
      "metadata": {
        "colab": {
          "base_uri": "https://localhost:8080/"
        },
        "id": "9EpoYvYB9S7O",
        "outputId": "03575d1e-296a-4945-b071-ddf4d0eee907"
      },
      "execution_count": 24,
      "outputs": [
        {
          "output_type": "execute_result",
          "data": {
            "text/plain": [
              "{'C': 4}"
            ]
          },
          "metadata": {},
          "execution_count": 24
        }
      ]
    },
    {
      "cell_type": "code",
      "source": [
        "# 범위를 좁혀가면서 파라미터를 찾음_2\n",
        "params = {'C':[2,3,4,5,6]}\n",
        "grid_sv = GridSearchCV(svc, params, scoring=\"accuracy\", cv=5)\n",
        "grid_sv.fit(X_train, y_train)\n",
        "grid_sv.best_params_\n",
        "#=> 범위 줄여도 베스트 값은 4 !"
      ],
      "metadata": {
        "colab": {
          "base_uri": "https://localhost:8080/"
        },
        "id": "BFQ3n6cT9in9",
        "outputId": "1c8244d4-fd22-4d5d-eda6-2b58c3eaa33d"
      },
      "execution_count": 25,
      "outputs": [
        {
          "output_type": "execute_result",
          "data": {
            "text/plain": [
              "{'C': 4}"
            ]
          },
          "metadata": {},
          "execution_count": 25
        }
      ]
    },
    {
      "cell_type": "code",
      "source": [
        "svc_best = grid_sv.best_estimator_\n",
        "svc_best.score(X_test, y_test)"
      ],
      "metadata": {
        "colab": {
          "base_uri": "https://localhost:8080/"
        },
        "id": "8ah0PuNP9xss",
        "outputId": "8263a6d1-62d0-4773-f1e0-abfce462e544"
      },
      "execution_count": 27,
      "outputs": [
        {
          "output_type": "execute_result",
          "data": {
            "text/plain": [
              "0.9666666666666667"
            ]
          },
          "metadata": {},
          "execution_count": 27
        }
      ]
    }
  ]
}