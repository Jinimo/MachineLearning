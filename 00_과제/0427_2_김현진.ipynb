{
  "nbformat": 4,
  "nbformat_minor": 0,
  "metadata": {
    "colab": {
      "name": "0427_2_김현진.ipynb",
      "provenance": [],
      "collapsed_sections": []
    },
    "kernelspec": {
      "name": "python3",
      "display_name": "Python 3"
    },
    "language_info": {
      "name": "python"
    }
  },
  "cells": [
    {
      "cell_type": "markdown",
      "source": [
        "# <과제 2> 유방암 데이터 - 차원축소, 군집화\n",
        "- 축소할 차원: 10, 5, 2 \n",
        "- 원본과 차원축소한 데이터의 분류(앙상블), 정확도 측정\n",
        "- 군집화 하기\n",
        "- 2차원 차원축소 데이터 시각화 (오리지날, 군집 데이터)"
      ],
      "metadata": {
        "id": "mAicC1tq_Vfl"
      }
    },
    {
      "cell_type": "code",
      "source": [
        "import numpy as np\n",
        "import pandas as pd\n",
        "import matplotlib.pyplot as plt"
      ],
      "metadata": {
        "id": "J30zT0iTAbuC"
      },
      "execution_count": 2,
      "outputs": []
    },
    {
      "cell_type": "code",
      "source": [
        "def pca_accuaracy(X, y):\n",
        "  X_train,X_test,y_train,y_test=train_test_split(X, y, stratify = y, random_state=2022)\n",
        "  score = RandomForestClassifier(random_state=2022).fit(X_train, y_train ).score(X_test, y_test)\n",
        "  return score"
      ],
      "metadata": {
        "id": "WB5B_ogOHG72"
      },
      "execution_count": 15,
      "outputs": []
    },
    {
      "cell_type": "markdown",
      "source": [
        "- 차원 축소 및 데이터의 분류(앙상블) 정확도 측정"
      ],
      "metadata": {
        "id": "pcoas3n3I0pT"
      }
    },
    {
      "cell_type": "code",
      "source": [
        "from sklearn.datasets import load_breast_cancer\n",
        "from sklearn.preprocessing import StandardScaler\n",
        "# 유방암 데이터 \n",
        "cancer = load_breast_cancer() \n",
        "# 표준화\n",
        "cancer_std = StandardScaler().fit_transform(cancer.data)"
      ],
      "metadata": {
        "id": "nFonhmA0KnP8"
      },
      "execution_count": 32,
      "outputs": []
    },
    {
      "cell_type": "code",
      "source": [
        "from sklearn.decomposition import PCA\n",
        "from sklearn.ensemble import RandomForestClassifier\n",
        "from sklearn.model_selection import train_test_split\n",
        "P = []\n",
        "# 차원 축소 및 정확도 \n",
        "for n in [10, 5, 2]:\n",
        "  pca = PCA(n)\n",
        "  cancer_pca = pca.fit_transform(cancer_std) \n",
        "  explained = pca.explained_variance_ratio_.sum() # 설명력\n",
        "  acc = pca_accuaracy(cancer_pca, cancer.target)  # 정확도 \n",
        "  \n",
        "  P.append(cancer_pca)\n",
        "  print(f'[ {n} 차원 ] \\n 설명력 - {explained:.4f}, 정확도 - {acc:.4f}')"
      ],
      "metadata": {
        "colab": {
          "base_uri": "https://localhost:8080/"
        },
        "id": "Kr_MNo4PF97F",
        "outputId": "c95bd23d-010f-43bc-e99a-0a0c3819af6f"
      },
      "execution_count": 35,
      "outputs": [
        {
          "output_type": "stream",
          "name": "stdout",
          "text": [
            "[ 10 차원 ] \n",
            " 설명력 - 0.9516, 정확도 - 0.9371\n",
            "[ 5 차원 ] \n",
            " 설명력 - 0.8473, 정확도 - 0.9580\n",
            "[ 2 차원 ] \n",
            " 설명력 - 0.6324, 정확도 - 0.9580\n"
          ]
        }
      ]
    },
    {
      "cell_type": "markdown",
      "source": [
        "- 군집화 및 2차원 차원축소 데이터 시각화 (오리지날, 군집 데이터)\n"
      ],
      "metadata": {
        "id": "cE_TC1EGDQzW"
      }
    },
    {
      "cell_type": "code",
      "source": [
        "from sklearn.cluster import KMeans\n",
        "# 군집화\n",
        "kmeans = KMeans(n_clusters=3, random_state=2022).fit(cancer_std)\n",
        "kmeans"
      ],
      "metadata": {
        "colab": {
          "base_uri": "https://localhost:8080/"
        },
        "id": "PhofH_KoJEpm",
        "outputId": "5b059153-a43d-4c96-844c-a4a2c1e89255"
      },
      "execution_count": 37,
      "outputs": [
        {
          "output_type": "execute_result",
          "data": {
            "text/plain": [
              "KMeans(n_clusters=3, random_state=2022)"
            ]
          },
          "metadata": {},
          "execution_count": 37
        }
      ]
    },
    {
      "cell_type": "code",
      "source": [
        "# DataFrame으로 만들기 \n",
        "df = pd.DataFrame({\n",
        "     'PC1': P[2][:,0], # P[2] : 2차원 cancer_pca\n",
        "     'PC2': P[2][:,1] ,\n",
        "     'target': cancer.target,\n",
        "     'cluster': kmeans.labels_\n",
        "})\n",
        "df.head(55).tail(5)"
      ],
      "metadata": {
        "colab": {
          "base_uri": "https://localhost:8080/",
          "height": 206
        },
        "id": "HWjio2FhJNKq",
        "outputId": "628c1b95-62a5-4a58-af2c-4957f008d11a"
      },
      "execution_count": 40,
      "outputs": [
        {
          "output_type": "execute_result",
          "data": {
            "text/plain": [
              "         PC1       PC2  target  cluster\n",
              "50 -3.542906 -1.282496       1        0\n",
              "51 -3.157814 -1.688959       1        0\n",
              "52 -3.450489 -0.498219       1        0\n",
              "53  3.302551 -1.130938       0        1\n",
              "54 -0.674619 -2.116410       0        0"
            ],
            "text/html": [
              "\n",
              "  <div id=\"df-ce9988d4-2504-4912-b8f7-ab37dae149cc\">\n",
              "    <div class=\"colab-df-container\">\n",
              "      <div>\n",
              "<style scoped>\n",
              "    .dataframe tbody tr th:only-of-type {\n",
              "        vertical-align: middle;\n",
              "    }\n",
              "\n",
              "    .dataframe tbody tr th {\n",
              "        vertical-align: top;\n",
              "    }\n",
              "\n",
              "    .dataframe thead th {\n",
              "        text-align: right;\n",
              "    }\n",
              "</style>\n",
              "<table border=\"1\" class=\"dataframe\">\n",
              "  <thead>\n",
              "    <tr style=\"text-align: right;\">\n",
              "      <th></th>\n",
              "      <th>PC1</th>\n",
              "      <th>PC2</th>\n",
              "      <th>target</th>\n",
              "      <th>cluster</th>\n",
              "    </tr>\n",
              "  </thead>\n",
              "  <tbody>\n",
              "    <tr>\n",
              "      <th>50</th>\n",
              "      <td>-3.542906</td>\n",
              "      <td>-1.282496</td>\n",
              "      <td>1</td>\n",
              "      <td>0</td>\n",
              "    </tr>\n",
              "    <tr>\n",
              "      <th>51</th>\n",
              "      <td>-3.157814</td>\n",
              "      <td>-1.688959</td>\n",
              "      <td>1</td>\n",
              "      <td>0</td>\n",
              "    </tr>\n",
              "    <tr>\n",
              "      <th>52</th>\n",
              "      <td>-3.450489</td>\n",
              "      <td>-0.498219</td>\n",
              "      <td>1</td>\n",
              "      <td>0</td>\n",
              "    </tr>\n",
              "    <tr>\n",
              "      <th>53</th>\n",
              "      <td>3.302551</td>\n",
              "      <td>-1.130938</td>\n",
              "      <td>0</td>\n",
              "      <td>1</td>\n",
              "    </tr>\n",
              "    <tr>\n",
              "      <th>54</th>\n",
              "      <td>-0.674619</td>\n",
              "      <td>-2.116410</td>\n",
              "      <td>0</td>\n",
              "      <td>0</td>\n",
              "    </tr>\n",
              "  </tbody>\n",
              "</table>\n",
              "</div>\n",
              "      <button class=\"colab-df-convert\" onclick=\"convertToInteractive('df-ce9988d4-2504-4912-b8f7-ab37dae149cc')\"\n",
              "              title=\"Convert this dataframe to an interactive table.\"\n",
              "              style=\"display:none;\">\n",
              "        \n",
              "  <svg xmlns=\"http://www.w3.org/2000/svg\" height=\"24px\"viewBox=\"0 0 24 24\"\n",
              "       width=\"24px\">\n",
              "    <path d=\"M0 0h24v24H0V0z\" fill=\"none\"/>\n",
              "    <path d=\"M18.56 5.44l.94 2.06.94-2.06 2.06-.94-2.06-.94-.94-2.06-.94 2.06-2.06.94zm-11 1L8.5 8.5l.94-2.06 2.06-.94-2.06-.94L8.5 2.5l-.94 2.06-2.06.94zm10 10l.94 2.06.94-2.06 2.06-.94-2.06-.94-.94-2.06-.94 2.06-2.06.94z\"/><path d=\"M17.41 7.96l-1.37-1.37c-.4-.4-.92-.59-1.43-.59-.52 0-1.04.2-1.43.59L10.3 9.45l-7.72 7.72c-.78.78-.78 2.05 0 2.83L4 21.41c.39.39.9.59 1.41.59.51 0 1.02-.2 1.41-.59l7.78-7.78 2.81-2.81c.8-.78.8-2.07 0-2.86zM5.41 20L4 18.59l7.72-7.72 1.47 1.35L5.41 20z\"/>\n",
              "  </svg>\n",
              "      </button>\n",
              "      \n",
              "  <style>\n",
              "    .colab-df-container {\n",
              "      display:flex;\n",
              "      flex-wrap:wrap;\n",
              "      gap: 12px;\n",
              "    }\n",
              "\n",
              "    .colab-df-convert {\n",
              "      background-color: #E8F0FE;\n",
              "      border: none;\n",
              "      border-radius: 50%;\n",
              "      cursor: pointer;\n",
              "      display: none;\n",
              "      fill: #1967D2;\n",
              "      height: 32px;\n",
              "      padding: 0 0 0 0;\n",
              "      width: 32px;\n",
              "    }\n",
              "\n",
              "    .colab-df-convert:hover {\n",
              "      background-color: #E2EBFA;\n",
              "      box-shadow: 0px 1px 2px rgba(60, 64, 67, 0.3), 0px 1px 3px 1px rgba(60, 64, 67, 0.15);\n",
              "      fill: #174EA6;\n",
              "    }\n",
              "\n",
              "    [theme=dark] .colab-df-convert {\n",
              "      background-color: #3B4455;\n",
              "      fill: #D2E3FC;\n",
              "    }\n",
              "\n",
              "    [theme=dark] .colab-df-convert:hover {\n",
              "      background-color: #434B5C;\n",
              "      box-shadow: 0px 1px 3px 1px rgba(0, 0, 0, 0.15);\n",
              "      filter: drop-shadow(0px 1px 2px rgba(0, 0, 0, 0.3));\n",
              "      fill: #FFFFFF;\n",
              "    }\n",
              "  </style>\n",
              "\n",
              "      <script>\n",
              "        const buttonEl =\n",
              "          document.querySelector('#df-ce9988d4-2504-4912-b8f7-ab37dae149cc button.colab-df-convert');\n",
              "        buttonEl.style.display =\n",
              "          google.colab.kernel.accessAllowed ? 'block' : 'none';\n",
              "\n",
              "        async function convertToInteractive(key) {\n",
              "          const element = document.querySelector('#df-ce9988d4-2504-4912-b8f7-ab37dae149cc');\n",
              "          const dataTable =\n",
              "            await google.colab.kernel.invokeFunction('convertToInteractive',\n",
              "                                                     [key], {});\n",
              "          if (!dataTable) return;\n",
              "\n",
              "          const docLinkHtml = 'Like what you see? Visit the ' +\n",
              "            '<a target=\"_blank\" href=https://colab.research.google.com/notebooks/data_table.ipynb>data table notebook</a>'\n",
              "            + ' to learn more about interactive tables.';\n",
              "          element.innerHTML = '';\n",
              "          dataTable['output_type'] = 'display_data';\n",
              "          await google.colab.output.renderOutput(dataTable, element);\n",
              "          const docLink = document.createElement('div');\n",
              "          docLink.innerHTML = docLinkHtml;\n",
              "          element.appendChild(docLink);\n",
              "        }\n",
              "      </script>\n",
              "    </div>\n",
              "  </div>\n",
              "  "
            ]
          },
          "metadata": {},
          "execution_count": 40
        }
      ]
    },
    {
      "cell_type": "code",
      "source": [
        "cancer.target_names"
      ],
      "metadata": {
        "colab": {
          "base_uri": "https://localhost:8080/"
        },
        "id": "1m_yR5-_O621",
        "outputId": "af26375d-0ad5-4433-9716-0bfd59aba3d4"
      },
      "execution_count": 43,
      "outputs": [
        {
          "output_type": "execute_result",
          "data": {
            "text/plain": [
              "array(['malignant', 'benign'], dtype='<U9')"
            ]
          },
          "metadata": {},
          "execution_count": 43
        }
      ]
    },
    {
      "cell_type": "code",
      "source": [
        "plt.figure(figsize=(12,4))\n",
        "markers = ['P','s']\n",
        "for k, column in enumerate(['target', 'cluster']):\n",
        "  plt.subplot(1, 2, k+1) \n",
        "  for i, marker in enumerate(markers):\n",
        "    x_data = df[df[column] == i]['PC1']\n",
        "    y_data = df[df[column]  == i]['PC2']\n",
        "    \n",
        "    if k == 0:\n",
        "      plt.title('Original data', fontsize=15)\n",
        "      plt.scatter(x_data, y_data, marker=marker, label=cancer.target_names[i])\n",
        "    else:\n",
        "      plt.title('Cluster data', fontsize=15)\n",
        "      plt.scatter(x_data, y_data, marker=marker, label='cluster'+str(i))\n",
        "      plt.scatter(x_data.mean(), y_data.mean(), marker='*', c='red', s=100) # 중심점 그리기 (원본데이터는 표기 필요 없음)\n",
        "\n",
        "  plt.legend()\n",
        "  plt.xlabel('PCA Component 1'), plt.ylabel('PCA Component 2')\n",
        "plt.show()"
      ],
      "metadata": {
        "colab": {
          "base_uri": "https://localhost:8080/",
          "height": 297
        },
        "id": "dx6VN4jFJNNK",
        "outputId": "acbbbf59-1c32-484b-eb03-b2e4c3b5e350"
      },
      "execution_count": 48,
      "outputs": [
        {
          "output_type": "display_data",
          "data": {
            "text/plain": [
              "<Figure size 864x288 with 2 Axes>"
            ],
            "image/png": "[encoded data removed]"
          },
          "metadata": {
            "needs_background": "light"
          }
        }
      ]
    }
  ]
}