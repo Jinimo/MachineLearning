{
  "nbformat": 4,
  "nbformat_minor": 0,
  "metadata": {
    "colab": {
      "name": "0422_1_Scikit-Learn 맛보기.ipynb",
      "provenance": [],
      "collapsed_sections": []
    },
    "kernelspec": {
      "name": "python3",
      "display_name": "Python 3"
    },
    "language_info": {
      "name": "python"
    }
  },
  "cells": [
    {
      "cell_type": "code",
      "execution_count": null,
      "metadata": {
        "id": "Yc7VqmjbCF8m"
      },
      "outputs": [],
      "source": [
        ""
      ]
    },
    {
      "cell_type": "markdown",
      "source": [
        "# Scikit-Learn 맛보기\n",
        "## Iris 분류 - 결정트리, 서포트벡터머신(SVM), 로지스틱스 회귀\n"
      ],
      "metadata": {
        "id": "ez0bBNt8CGi4"
      }
    },
    {
      "cell_type": "markdown",
      "source": [
        "### 1. 데이터 전처리\n"
      ],
      "metadata": {
        "id": "Pk62DuWACb_-"
      }
    },
    {
      "cell_type": "code",
      "source": [
        "# sklearn에서 만든 예시 데이터 load_iris -> 이미 전처리 끝난 데이터 \n",
        "from sklearn.datasets import load_iris\n",
        "iris = load_iris()"
      ],
      "metadata": {
        "id": "UaiB61rPCT8r"
      },
      "execution_count": null,
      "outputs": []
    },
    {
      "cell_type": "code",
      "source": [
        "type(iris)"
      ],
      "metadata": {
        "colab": {
          "base_uri": "https://localhost:8080/"
        },
        "id": "WI7f5s7HDwY-",
        "outputId": "5bb201de-c810-4b1f-f203-1695dd4671f4"
      },
      "execution_count": null,
      "outputs": [
        {
          "output_type": "execute_result",
          "data": {
            "text/plain": [
              "sklearn.utils.Bunch"
            ]
          },
          "metadata": {},
          "execution_count": 3
        }
      ]
    },
    {
      "cell_type": "code",
      "source": [
        "iris.keys() # 딕셔너리"
      ],
      "metadata": {
        "colab": {
          "base_uri": "https://localhost:8080/"
        },
        "id": "V1Nmu0zJD4Rg",
        "outputId": "c685cb03-4d76-4575-8147-116a8ee42f49"
      },
      "execution_count": null,
      "outputs": [
        {
          "output_type": "execute_result",
          "data": {
            "text/plain": [
              "dict_keys(['data', 'target', 'frame', 'target_names', 'DESCR', 'feature_names', 'filename', 'data_module'])"
            ]
          },
          "metadata": {},
          "execution_count": 4
        }
      ]
    },
    {
      "cell_type": "code",
      "source": [
        "# 같은 방식\n",
        "iris['target_names']"
      ],
      "metadata": {
        "colab": {
          "base_uri": "https://localhost:8080/"
        },
        "id": "laXWHiEnD67G",
        "outputId": "5c0e639b-a22c-4429-8a89-b384df1c46a7"
      },
      "execution_count": null,
      "outputs": [
        {
          "output_type": "execute_result",
          "data": {
            "text/plain": [
              "array(['setosa', 'versicolor', 'virginica'], dtype='<U10')"
            ]
          },
          "metadata": {},
          "execution_count": 9
        }
      ]
    },
    {
      "cell_type": "code",
      "source": [
        "iris.target_names"
      ],
      "metadata": {
        "colab": {
          "base_uri": "https://localhost:8080/"
        },
        "id": "WSpqS5Z_D_d1",
        "outputId": "8ce479f4-fa75-4b9b-faf5-f385c9d74004"
      },
      "execution_count": null,
      "outputs": [
        {
          "output_type": "execute_result",
          "data": {
            "text/plain": [
              "array(['setosa', 'versicolor', 'virginica'], dtype='<U10')"
            ]
          },
          "metadata": {},
          "execution_count": 10
        }
      ]
    },
    {
      "cell_type": "code",
      "source": [
        "## Feature data - X, numpy dimensional array\n",
        "# .data[]\n",
        "iris.data[:5]"
      ],
      "metadata": {
        "colab": {
          "base_uri": "https://localhost:8080/"
        },
        "id": "abVYKL76EDpC",
        "outputId": "19a93d76-6c50-4e72-f701-e667354f1e3c"
      },
      "execution_count": null,
      "outputs": [
        {
          "output_type": "execute_result",
          "data": {
            "text/plain": [
              "array([[5.1, 3.5, 1.4, 0.2],\n",
              "       [4.9, 3. , 1.4, 0.2],\n",
              "       [4.7, 3.2, 1.3, 0.2],\n",
              "       [4.6, 3.1, 1.5, 0.2],\n",
              "       [5. , 3.6, 1.4, 0.2]])"
            ]
          },
          "metadata": {},
          "execution_count": 11
        }
      ]
    },
    {
      "cell_type": "code",
      "source": [
        "type(iris.data)"
      ],
      "metadata": {
        "colab": {
          "base_uri": "https://localhost:8080/"
        },
        "id": "6XLI7PE1EdUd",
        "outputId": "62de0f0a-30fe-4bd5-8fa0-9b2f6a41366a"
      },
      "execution_count": 14,
      "outputs": [
        {
          "output_type": "execute_result",
          "data": {
            "text/plain": [
              "numpy.ndarray"
            ]
          },
          "metadata": {},
          "execution_count": 14
        }
      ]
    },
    {
      "cell_type": "code",
      "source": [
        "## Feature name\n",
        "# .feature_names\n",
        "iris.feature_names # 리스트 형식"
      ],
      "metadata": {
        "id": "cBiVmpMlEiMc",
        "colab": {
          "base_uri": "https://localhost:8080/"
        },
        "outputId": "157b26e2-b8ce-4d3d-f064-aa4475dfd9dd"
      },
      "execution_count": 16,
      "outputs": [
        {
          "output_type": "execute_result",
          "data": {
            "text/plain": [
              "['sepal length (cm)',\n",
              " 'sepal width (cm)',\n",
              " 'petal length (cm)',\n",
              " 'petal width (cm)']"
            ]
          },
          "metadata": {},
          "execution_count": 16
        }
      ]
    },
    {
      "cell_type": "code",
      "source": [
        "import pandas as pd\n",
        "df = pd.DataFrame(iris.data, columns = iris.feature_names)\n",
        "df.head()"
      ],
      "metadata": {
        "colab": {
          "base_uri": "https://localhost:8080/",
          "height": 206
        },
        "id": "UJN_gcCMEyHf",
        "outputId": "87446a6d-d100-4c8c-e55a-c23f91b746c9"
      },
      "execution_count": 18,
      "outputs": [
        {
          "output_type": "execute_result",
          "data": {
            "text/plain": [
              "   sepal length (cm)  sepal width (cm)  petal length (cm)  petal width (cm)\n",
              "0                5.1               3.5                1.4               0.2\n",
              "1                4.9               3.0                1.4               0.2\n",
              "2                4.7               3.2                1.3               0.2\n",
              "3                4.6               3.1                1.5               0.2\n",
              "4                5.0               3.6                1.4               0.2"
            ],
            "text/html": [
              "\n",
              "  <div id=\"df-f1a674bd-7147-44e0-87ff-2e03d1dc7c60\">\n",
              "    <div class=\"colab-df-container\">\n",
              "      <div>\n",
              "<style scoped>\n",
              "    .dataframe tbody tr th:only-of-type {\n",
              "        vertical-align: middle;\n",
              "    }\n",
              "\n",
              "    .dataframe tbody tr th {\n",
              "        vertical-align: top;\n",
              "    }\n",
              "\n",
              "    .dataframe thead th {\n",
              "        text-align: right;\n",
              "    }\n",
              "</style>\n",
              "<table border=\"1\" class=\"dataframe\">\n",
              "  <thead>\n",
              "    <tr style=\"text-align: right;\">\n",
              "      <th></th>\n",
              "      <th>sepal length (cm)</th>\n",
              "      <th>sepal width (cm)</th>\n",
              "      <th>petal length (cm)</th>\n",
              "      <th>petal width (cm)</th>\n",
              "    </tr>\n",
              "  </thead>\n",
              "  <tbody>\n",
              "    <tr>\n",
              "      <th>0</th>\n",
              "      <td>5.1</td>\n",
              "      <td>3.5</td>\n",
              "      <td>1.4</td>\n",
              "      <td>0.2</td>\n",
              "    </tr>\n",
              "    <tr>\n",
              "      <th>1</th>\n",
              "      <td>4.9</td>\n",
              "      <td>3.0</td>\n",
              "      <td>1.4</td>\n",
              "      <td>0.2</td>\n",
              "    </tr>\n",
              "    <tr>\n",
              "      <th>2</th>\n",
              "      <td>4.7</td>\n",
              "      <td>3.2</td>\n",
              "      <td>1.3</td>\n",
              "      <td>0.2</td>\n",
              "    </tr>\n",
              "    <tr>\n",
              "      <th>3</th>\n",
              "      <td>4.6</td>\n",
              "      <td>3.1</td>\n",
              "      <td>1.5</td>\n",
              "      <td>0.2</td>\n",
              "    </tr>\n",
              "    <tr>\n",
              "      <th>4</th>\n",
              "      <td>5.0</td>\n",
              "      <td>3.6</td>\n",
              "      <td>1.4</td>\n",
              "      <td>0.2</td>\n",
              "    </tr>\n",
              "  </tbody>\n",
              "</table>\n",
              "</div>\n",
              "      <button class=\"colab-df-convert\" onclick=\"convertToInteractive('df-f1a674bd-7147-44e0-87ff-2e03d1dc7c60')\"\n",
              "              title=\"Convert this dataframe to an interactive table.\"\n",
              "              style=\"display:none;\">\n",
              "        \n",
              "  <svg xmlns=\"http://www.w3.org/2000/svg\" height=\"24px\"viewBox=\"0 0 24 24\"\n",
              "       width=\"24px\">\n",
              "    <path d=\"M0 0h24v24H0V0z\" fill=\"none\"/>\n",
              "    <path d=\"M18.56 5.44l.94 2.06.94-2.06 2.06-.94-2.06-.94-.94-2.06-.94 2.06-2.06.94zm-11 1L8.5 8.5l.94-2.06 2.06-.94-2.06-.94L8.5 2.5l-.94 2.06-2.06.94zm10 10l.94 2.06.94-2.06 2.06-.94-2.06-.94-.94-2.06-.94 2.06-2.06.94z\"/><path d=\"M17.41 7.96l-1.37-1.37c-.4-.4-.92-.59-1.43-.59-.52 0-1.04.2-1.43.59L10.3 9.45l-7.72 7.72c-.78.78-.78 2.05 0 2.83L4 21.41c.39.39.9.59 1.41.59.51 0 1.02-.2 1.41-.59l7.78-7.78 2.81-2.81c.8-.78.8-2.07 0-2.86zM5.41 20L4 18.59l7.72-7.72 1.47 1.35L5.41 20z\"/>\n",
              "  </svg>\n",
              "      </button>\n",
              "      \n",
              "  <style>\n",
              "    .colab-df-container {\n",
              "      display:flex;\n",
              "      flex-wrap:wrap;\n",
              "      gap: 12px;\n",
              "    }\n",
              "\n",
              "    .colab-df-convert {\n",
              "      background-color: #E8F0FE;\n",
              "      border: none;\n",
              "      border-radius: 50%;\n",
              "      cursor: pointer;\n",
              "      display: none;\n",
              "      fill: #1967D2;\n",
              "      height: 32px;\n",
              "      padding: 0 0 0 0;\n",
              "      width: 32px;\n",
              "    }\n",
              "\n",
              "    .colab-df-convert:hover {\n",
              "      background-color: #E2EBFA;\n",
              "      box-shadow: 0px 1px 2px rgba(60, 64, 67, 0.3), 0px 1px 3px 1px rgba(60, 64, 67, 0.15);\n",
              "      fill: #174EA6;\n",
              "    }\n",
              "\n",
              "    [theme=dark] .colab-df-convert {\n",
              "      background-color: #3B4455;\n",
              "      fill: #D2E3FC;\n",
              "    }\n",
              "\n",
              "    [theme=dark] .colab-df-convert:hover {\n",
              "      background-color: #434B5C;\n",
              "      box-shadow: 0px 1px 3px 1px rgba(0, 0, 0, 0.15);\n",
              "      filter: drop-shadow(0px 1px 2px rgba(0, 0, 0, 0.3));\n",
              "      fill: #FFFFFF;\n",
              "    }\n",
              "  </style>\n",
              "\n",
              "      <script>\n",
              "        const buttonEl =\n",
              "          document.querySelector('#df-f1a674bd-7147-44e0-87ff-2e03d1dc7c60 button.colab-df-convert');\n",
              "        buttonEl.style.display =\n",
              "          google.colab.kernel.accessAllowed ? 'block' : 'none';\n",
              "\n",
              "        async function convertToInteractive(key) {\n",
              "          const element = document.querySelector('#df-f1a674bd-7147-44e0-87ff-2e03d1dc7c60');\n",
              "          const dataTable =\n",
              "            await google.colab.kernel.invokeFunction('convertToInteractive',\n",
              "                                                     [key], {});\n",
              "          if (!dataTable) return;\n",
              "\n",
              "          const docLinkHtml = 'Like what you see? Visit the ' +\n",
              "            '<a target=\"_blank\" href=https://colab.research.google.com/notebooks/data_table.ipynb>data table notebook</a>'\n",
              "            + ' to learn more about interactive tables.';\n",
              "          element.innerHTML = '';\n",
              "          dataTable['output_type'] = 'display_data';\n",
              "          await google.colab.output.renderOutput(dataTable, element);\n",
              "          const docLink = document.createElement('div');\n",
              "          docLink.innerHTML = docLinkHtml;\n",
              "          element.appendChild(docLink);\n",
              "        }\n",
              "      </script>\n",
              "    </div>\n",
              "  </div>\n",
              "  "
            ]
          },
          "metadata": {},
          "execution_count": 18
        }
      ]
    },
    {
      "cell_type": "code",
      "source": [
        "# 컬럼 데이터에서 '(cm)' 제거 후 적용 \n",
        "feature_names = [name[:-5] for name in iris.feature_names] # name[:-5] '공백+(cm)' 제외한 앞 글자\n",
        "df = pd.DataFrame(iris.data, columns = feature_names)\n",
        "\n",
        "# 'target' 필드 추가\n",
        "df['target'] = iris.target\n",
        "df.head()"
      ],
      "metadata": {
        "colab": {
          "base_uri": "https://localhost:8080/",
          "height": 206
        },
        "id": "5-DUfqreFMri",
        "outputId": "2e06377e-d07d-4acf-a617-acead0d2aa95"
      },
      "execution_count": 19,
      "outputs": [
        {
          "output_type": "execute_result",
          "data": {
            "text/plain": [
              "   sepal length  sepal width  petal length  petal width  target\n",
              "0           5.1          3.5           1.4          0.2       0\n",
              "1           4.9          3.0           1.4          0.2       0\n",
              "2           4.7          3.2           1.3          0.2       0\n",
              "3           4.6          3.1           1.5          0.2       0\n",
              "4           5.0          3.6           1.4          0.2       0"
            ],
            "text/html": [
              "\n",
              "  <div id=\"df-a8f2bb17-c1cf-4295-b124-9483c4d5b2cc\">\n",
              "    <div class=\"colab-df-container\">\n",
              "      <div>\n",
              "<style scoped>\n",
              "    .dataframe tbody tr th:only-of-type {\n",
              "        vertical-align: middle;\n",
              "    }\n",
              "\n",
              "    .dataframe tbody tr th {\n",
              "        vertical-align: top;\n",
              "    }\n",
              "\n",
              "    .dataframe thead th {\n",
              "        text-align: right;\n",
              "    }\n",
              "</style>\n",
              "<table border=\"1\" class=\"dataframe\">\n",
              "  <thead>\n",
              "    <tr style=\"text-align: right;\">\n",
              "      <th></th>\n",
              "      <th>sepal length</th>\n",
              "      <th>sepal width</th>\n",
              "      <th>petal length</th>\n",
              "      <th>petal width</th>\n",
              "      <th>target</th>\n",
              "    </tr>\n",
              "  </thead>\n",
              "  <tbody>\n",
              "    <tr>\n",
              "      <th>0</th>\n",
              "      <td>5.1</td>\n",
              "      <td>3.5</td>\n",
              "      <td>1.4</td>\n",
              "      <td>0.2</td>\n",
              "      <td>0</td>\n",
              "    </tr>\n",
              "    <tr>\n",
              "      <th>1</th>\n",
              "      <td>4.9</td>\n",
              "      <td>3.0</td>\n",
              "      <td>1.4</td>\n",
              "      <td>0.2</td>\n",
              "      <td>0</td>\n",
              "    </tr>\n",
              "    <tr>\n",
              "      <th>2</th>\n",
              "      <td>4.7</td>\n",
              "      <td>3.2</td>\n",
              "      <td>1.3</td>\n",
              "      <td>0.2</td>\n",
              "      <td>0</td>\n",
              "    </tr>\n",
              "    <tr>\n",
              "      <th>3</th>\n",
              "      <td>4.6</td>\n",
              "      <td>3.1</td>\n",
              "      <td>1.5</td>\n",
              "      <td>0.2</td>\n",
              "      <td>0</td>\n",
              "    </tr>\n",
              "    <tr>\n",
              "      <th>4</th>\n",
              "      <td>5.0</td>\n",
              "      <td>3.6</td>\n",
              "      <td>1.4</td>\n",
              "      <td>0.2</td>\n",
              "      <td>0</td>\n",
              "    </tr>\n",
              "  </tbody>\n",
              "</table>\n",
              "</div>\n",
              "      <button class=\"colab-df-convert\" onclick=\"convertToInteractive('df-a8f2bb17-c1cf-4295-b124-9483c4d5b2cc')\"\n",
              "              title=\"Convert this dataframe to an interactive table.\"\n",
              "              style=\"display:none;\">\n",
              "        \n",
              "  <svg xmlns=\"http://www.w3.org/2000/svg\" height=\"24px\"viewBox=\"0 0 24 24\"\n",
              "       width=\"24px\">\n",
              "    <path d=\"M0 0h24v24H0V0z\" fill=\"none\"/>\n",
              "    <path d=\"M18.56 5.44l.94 2.06.94-2.06 2.06-.94-2.06-.94-.94-2.06-.94 2.06-2.06.94zm-11 1L8.5 8.5l.94-2.06 2.06-.94-2.06-.94L8.5 2.5l-.94 2.06-2.06.94zm10 10l.94 2.06.94-2.06 2.06-.94-2.06-.94-.94-2.06-.94 2.06-2.06.94z\"/><path d=\"M17.41 7.96l-1.37-1.37c-.4-.4-.92-.59-1.43-.59-.52 0-1.04.2-1.43.59L10.3 9.45l-7.72 7.72c-.78.78-.78 2.05 0 2.83L4 21.41c.39.39.9.59 1.41.59.51 0 1.02-.2 1.41-.59l7.78-7.78 2.81-2.81c.8-.78.8-2.07 0-2.86zM5.41 20L4 18.59l7.72-7.72 1.47 1.35L5.41 20z\"/>\n",
              "  </svg>\n",
              "      </button>\n",
              "      \n",
              "  <style>\n",
              "    .colab-df-container {\n",
              "      display:flex;\n",
              "      flex-wrap:wrap;\n",
              "      gap: 12px;\n",
              "    }\n",
              "\n",
              "    .colab-df-convert {\n",
              "      background-color: #E8F0FE;\n",
              "      border: none;\n",
              "      border-radius: 50%;\n",
              "      cursor: pointer;\n",
              "      display: none;\n",
              "      fill: #1967D2;\n",
              "      height: 32px;\n",
              "      padding: 0 0 0 0;\n",
              "      width: 32px;\n",
              "    }\n",
              "\n",
              "    .colab-df-convert:hover {\n",
              "      background-color: #E2EBFA;\n",
              "      box-shadow: 0px 1px 2px rgba(60, 64, 67, 0.3), 0px 1px 3px 1px rgba(60, 64, 67, 0.15);\n",
              "      fill: #174EA6;\n",
              "    }\n",
              "\n",
              "    [theme=dark] .colab-df-convert {\n",
              "      background-color: #3B4455;\n",
              "      fill: #D2E3FC;\n",
              "    }\n",
              "\n",
              "    [theme=dark] .colab-df-convert:hover {\n",
              "      background-color: #434B5C;\n",
              "      box-shadow: 0px 1px 3px 1px rgba(0, 0, 0, 0.15);\n",
              "      filter: drop-shadow(0px 1px 2px rgba(0, 0, 0, 0.3));\n",
              "      fill: #FFFFFF;\n",
              "    }\n",
              "  </style>\n",
              "\n",
              "      <script>\n",
              "        const buttonEl =\n",
              "          document.querySelector('#df-a8f2bb17-c1cf-4295-b124-9483c4d5b2cc button.colab-df-convert');\n",
              "        buttonEl.style.display =\n",
              "          google.colab.kernel.accessAllowed ? 'block' : 'none';\n",
              "\n",
              "        async function convertToInteractive(key) {\n",
              "          const element = document.querySelector('#df-a8f2bb17-c1cf-4295-b124-9483c4d5b2cc');\n",
              "          const dataTable =\n",
              "            await google.colab.kernel.invokeFunction('convertToInteractive',\n",
              "                                                     [key], {});\n",
              "          if (!dataTable) return;\n",
              "\n",
              "          const docLinkHtml = 'Like what you see? Visit the ' +\n",
              "            '<a target=\"_blank\" href=https://colab.research.google.com/notebooks/data_table.ipynb>data table notebook</a>'\n",
              "            + ' to learn more about interactive tables.';\n",
              "          element.innerHTML = '';\n",
              "          dataTable['output_type'] = 'display_data';\n",
              "          await google.colab.output.renderOutput(dataTable, element);\n",
              "          const docLink = document.createElement('div');\n",
              "          docLink.innerHTML = docLinkHtml;\n",
              "          element.appendChild(docLink);\n",
              "        }\n",
              "      </script>\n",
              "    </div>\n",
              "  </div>\n",
              "  "
            ]
          },
          "metadata": {},
          "execution_count": 19
        }
      ]
    },
    {
      "cell_type": "code",
      "source": [
        "import numpy as np\n",
        "np.unique(iris.target, return_counts=True)"
      ],
      "metadata": {
        "colab": {
          "base_uri": "https://localhost:8080/"
        },
        "id": "Eeye-NRzFsXj",
        "outputId": "2a01f5c3-9add-4a12-98b2-8f5cc81865d8"
      },
      "execution_count": 20,
      "outputs": [
        {
          "output_type": "execute_result",
          "data": {
            "text/plain": [
              "(array([0, 1, 2]), array([50, 50, 50]))"
            ]
          },
          "metadata": {},
          "execution_count": 20
        }
      ]
    },
    {
      "cell_type": "code",
      "source": [
        "# 설명 \n",
        "print(iris.DESCR)"
      ],
      "metadata": {
        "colab": {
          "base_uri": "https://localhost:8080/"
        },
        "id": "PcvwgI4AGSwq",
        "outputId": "6eaacf01-143f-46d4-9044-e35c108945a8"
      },
      "execution_count": 21,
      "outputs": [
        {
          "output_type": "stream",
          "name": "stdout",
          "text": [
            ".. _iris_dataset:\n",
            "\n",
            "Iris plants dataset\n",
            "--------------------\n",
            "\n",
            "**Data Set Characteristics:**\n",
            "\n",
            "    :Number of Instances: 150 (50 in each of three classes)\n",
            "    :Number of Attributes: 4 numeric, predictive attributes and the class\n",
            "    :Attribute Information:\n",
            "        - sepal length in cm\n",
            "        - sepal width in cm\n",
            "        - petal length in cm\n",
            "        - petal width in cm\n",
            "        - class:\n",
            "                - Iris-Setosa\n",
            "                - Iris-Versicolour\n",
            "                - Iris-Virginica\n",
            "                \n",
            "    :Summary Statistics:\n",
            "\n",
            "    ============== ==== ==== ======= ===== ====================\n",
            "                    Min  Max   Mean    SD   Class Correlation\n",
            "    ============== ==== ==== ======= ===== ====================\n",
            "    sepal length:   4.3  7.9   5.84   0.83    0.7826\n",
            "    sepal width:    2.0  4.4   3.05   0.43   -0.4194\n",
            "    petal length:   1.0  6.9   3.76   1.76    0.9490  (high!)\n",
            "    petal width:    0.1  2.5   1.20   0.76    0.9565  (high!)\n",
            "    ============== ==== ==== ======= ===== ====================\n",
            "\n",
            "    :Missing Attribute Values: None\n",
            "    :Class Distribution: 33.3% for each of 3 classes.\n",
            "    :Creator: R.A. Fisher\n",
            "    :Donor: Michael Marshall (MARSHALL%PLU@io.arc.nasa.gov)\n",
            "    :Date: July, 1988\n",
            "\n",
            "The famous Iris database, first used by Sir R.A. Fisher. The dataset is taken\n",
            "from Fisher's paper. Note that it's the same as in R, but not as in the UCI\n",
            "Machine Learning Repository, which has two wrong data points.\n",
            "\n",
            "This is perhaps the best known database to be found in the\n",
            "pattern recognition literature.  Fisher's paper is a classic in the field and\n",
            "is referenced frequently to this day.  (See Duda & Hart, for example.)  The\n",
            "data set contains 3 classes of 50 instances each, where each class refers to a\n",
            "type of iris plant.  One class is linearly separable from the other 2; the\n",
            "latter are NOT linearly separable from each other.\n",
            "\n",
            ".. topic:: References\n",
            "\n",
            "   - Fisher, R.A. \"The use of multiple measurements in taxonomic problems\"\n",
            "     Annual Eugenics, 7, Part II, 179-188 (1936); also in \"Contributions to\n",
            "     Mathematical Statistics\" (John Wiley, NY, 1950).\n",
            "   - Duda, R.O., & Hart, P.E. (1973) Pattern Classification and Scene Analysis.\n",
            "     (Q327.D83) John Wiley & Sons.  ISBN 0-471-22361-1.  See page 218.\n",
            "   - Dasarathy, B.V. (1980) \"Nosing Around the Neighborhood: A New System\n",
            "     Structure and Classification Rule for Recognition in Partially Exposed\n",
            "     Environments\".  IEEE Transactions on Pattern Analysis and Machine\n",
            "     Intelligence, Vol. PAMI-2, No. 1, 67-71.\n",
            "   - Gates, G.W. (1972) \"The Reduced Nearest Neighbor Rule\".  IEEE Transactions\n",
            "     on Information Theory, May 1972, 431-433.\n",
            "   - See also: 1988 MLC Proceedings, 54-64.  Cheeseman et al\"s AUTOCLASS II\n",
            "     conceptual clustering system finds 3 classes in the data.\n",
            "   - Many, many more ...\n"
          ]
        }
      ]
    },
    {
      "cell_type": "code",
      "source": [
        "df.groupby('target').describe() # 기초통계 전부 보기"
      ],
      "metadata": {
        "colab": {
          "base_uri": "https://localhost:8080/",
          "height": 317
        },
        "id": "4aaMwIxwG3mP",
        "outputId": "f12c4294-cf1a-482f-a2c7-dbcff69c4136"
      },
      "execution_count": 22,
      "outputs": [
        {
          "output_type": "execute_result",
          "data": {
            "text/plain": [
              "       sepal length                                             sepal width  \\\n",
              "              count   mean       std  min    25%  50%  75%  max       count   \n",
              "target                                                                        \n",
              "0              50.0  5.006  0.352490  4.3  4.800  5.0  5.2  5.8        50.0   \n",
              "1              50.0  5.936  0.516171  4.9  5.600  5.9  6.3  7.0        50.0   \n",
              "2              50.0  6.588  0.635880  4.9  6.225  6.5  6.9  7.9        50.0   \n",
              "\n",
              "               ... petal length      petal width                             \\\n",
              "         mean  ...          75%  max       count   mean       std  min  25%   \n",
              "target         ...                                                            \n",
              "0       3.428  ...        1.575  1.9        50.0  0.246  0.105386  0.1  0.2   \n",
              "1       2.770  ...        4.600  5.1        50.0  1.326  0.197753  1.0  1.2   \n",
              "2       2.974  ...        5.875  6.9        50.0  2.026  0.274650  1.4  1.8   \n",
              "\n",
              "                       \n",
              "        50%  75%  max  \n",
              "target                 \n",
              "0       0.2  0.3  0.6  \n",
              "1       1.3  1.5  1.8  \n",
              "2       2.0  2.3  2.5  \n",
              "\n",
              "[3 rows x 32 columns]"
            ],
            "text/html": [
              "\n",
              "  <div id=\"df-b7d3c4be-7155-4cb4-b9db-ed08cee7c099\">\n",
              "    <div class=\"colab-df-container\">\n",
              "      <div>\n",
              "<style scoped>\n",
              "    .dataframe tbody tr th:only-of-type {\n",
              "        vertical-align: middle;\n",
              "    }\n",
              "\n",
              "    .dataframe tbody tr th {\n",
              "        vertical-align: top;\n",
              "    }\n",
              "\n",
              "    .dataframe thead tr th {\n",
              "        text-align: left;\n",
              "    }\n",
              "\n",
              "    .dataframe thead tr:last-of-type th {\n",
              "        text-align: right;\n",
              "    }\n",
              "</style>\n",
              "<table border=\"1\" class=\"dataframe\">\n",
              "  <thead>\n",
              "    <tr>\n",
              "      <th></th>\n",
              "      <th colspan=\"8\" halign=\"left\">sepal length</th>\n",
              "      <th colspan=\"2\" halign=\"left\">sepal width</th>\n",
              "      <th>...</th>\n",
              "      <th colspan=\"2\" halign=\"left\">petal length</th>\n",
              "      <th colspan=\"8\" halign=\"left\">petal width</th>\n",
              "    </tr>\n",
              "    <tr>\n",
              "      <th></th>\n",
              "      <th>count</th>\n",
              "      <th>mean</th>\n",
              "      <th>std</th>\n",
              "      <th>min</th>\n",
              "      <th>25%</th>\n",
              "      <th>50%</th>\n",
              "      <th>75%</th>\n",
              "      <th>max</th>\n",
              "      <th>count</th>\n",
              "      <th>mean</th>\n",
              "      <th>...</th>\n",
              "      <th>75%</th>\n",
              "      <th>max</th>\n",
              "      <th>count</th>\n",
              "      <th>mean</th>\n",
              "      <th>std</th>\n",
              "      <th>min</th>\n",
              "      <th>25%</th>\n",
              "      <th>50%</th>\n",
              "      <th>75%</th>\n",
              "      <th>max</th>\n",
              "    </tr>\n",
              "    <tr>\n",
              "      <th>target</th>\n",
              "      <th></th>\n",
              "      <th></th>\n",
              "      <th></th>\n",
              "      <th></th>\n",
              "      <th></th>\n",
              "      <th></th>\n",
              "      <th></th>\n",
              "      <th></th>\n",
              "      <th></th>\n",
              "      <th></th>\n",
              "      <th></th>\n",
              "      <th></th>\n",
              "      <th></th>\n",
              "      <th></th>\n",
              "      <th></th>\n",
              "      <th></th>\n",
              "      <th></th>\n",
              "      <th></th>\n",
              "      <th></th>\n",
              "      <th></th>\n",
              "      <th></th>\n",
              "    </tr>\n",
              "  </thead>\n",
              "  <tbody>\n",
              "    <tr>\n",
              "      <th>0</th>\n",
              "      <td>50.0</td>\n",
              "      <td>5.006</td>\n",
              "      <td>0.352490</td>\n",
              "      <td>4.3</td>\n",
              "      <td>4.800</td>\n",
              "      <td>5.0</td>\n",
              "      <td>5.2</td>\n",
              "      <td>5.8</td>\n",
              "      <td>50.0</td>\n",
              "      <td>3.428</td>\n",
              "      <td>...</td>\n",
              "      <td>1.575</td>\n",
              "      <td>1.9</td>\n",
              "      <td>50.0</td>\n",
              "      <td>0.246</td>\n",
              "      <td>0.105386</td>\n",
              "      <td>0.1</td>\n",
              "      <td>0.2</td>\n",
              "      <td>0.2</td>\n",
              "      <td>0.3</td>\n",
              "      <td>0.6</td>\n",
              "    </tr>\n",
              "    <tr>\n",
              "      <th>1</th>\n",
              "      <td>50.0</td>\n",
              "      <td>5.936</td>\n",
              "      <td>0.516171</td>\n",
              "      <td>4.9</td>\n",
              "      <td>5.600</td>\n",
              "      <td>5.9</td>\n",
              "      <td>6.3</td>\n",
              "      <td>7.0</td>\n",
              "      <td>50.0</td>\n",
              "      <td>2.770</td>\n",
              "      <td>...</td>\n",
              "      <td>4.600</td>\n",
              "      <td>5.1</td>\n",
              "      <td>50.0</td>\n",
              "      <td>1.326</td>\n",
              "      <td>0.197753</td>\n",
              "      <td>1.0</td>\n",
              "      <td>1.2</td>\n",
              "      <td>1.3</td>\n",
              "      <td>1.5</td>\n",
              "      <td>1.8</td>\n",
              "    </tr>\n",
              "    <tr>\n",
              "      <th>2</th>\n",
              "      <td>50.0</td>\n",
              "      <td>6.588</td>\n",
              "      <td>0.635880</td>\n",
              "      <td>4.9</td>\n",
              "      <td>6.225</td>\n",
              "      <td>6.5</td>\n",
              "      <td>6.9</td>\n",
              "      <td>7.9</td>\n",
              "      <td>50.0</td>\n",
              "      <td>2.974</td>\n",
              "      <td>...</td>\n",
              "      <td>5.875</td>\n",
              "      <td>6.9</td>\n",
              "      <td>50.0</td>\n",
              "      <td>2.026</td>\n",
              "      <td>0.274650</td>\n",
              "      <td>1.4</td>\n",
              "      <td>1.8</td>\n",
              "      <td>2.0</td>\n",
              "      <td>2.3</td>\n",
              "      <td>2.5</td>\n",
              "    </tr>\n",
              "  </tbody>\n",
              "</table>\n",
              "<p>3 rows × 32 columns</p>\n",
              "</div>\n",
              "      <button class=\"colab-df-convert\" onclick=\"convertToInteractive('df-b7d3c4be-7155-4cb4-b9db-ed08cee7c099')\"\n",
              "              title=\"Convert this dataframe to an interactive table.\"\n",
              "              style=\"display:none;\">\n",
              "        \n",
              "  <svg xmlns=\"http://www.w3.org/2000/svg\" height=\"24px\"viewBox=\"0 0 24 24\"\n",
              "       width=\"24px\">\n",
              "    <path d=\"M0 0h24v24H0V0z\" fill=\"none\"/>\n",
              "    <path d=\"M18.56 5.44l.94 2.06.94-2.06 2.06-.94-2.06-.94-.94-2.06-.94 2.06-2.06.94zm-11 1L8.5 8.5l.94-2.06 2.06-.94-2.06-.94L8.5 2.5l-.94 2.06-2.06.94zm10 10l.94 2.06.94-2.06 2.06-.94-2.06-.94-.94-2.06-.94 2.06-2.06.94z\"/><path d=\"M17.41 7.96l-1.37-1.37c-.4-.4-.92-.59-1.43-.59-.52 0-1.04.2-1.43.59L10.3 9.45l-7.72 7.72c-.78.78-.78 2.05 0 2.83L4 21.41c.39.39.9.59 1.41.59.51 0 1.02-.2 1.41-.59l7.78-7.78 2.81-2.81c.8-.78.8-2.07 0-2.86zM5.41 20L4 18.59l7.72-7.72 1.47 1.35L5.41 20z\"/>\n",
              "  </svg>\n",
              "      </button>\n",
              "      \n",
              "  <style>\n",
              "    .colab-df-container {\n",
              "      display:flex;\n",
              "      flex-wrap:wrap;\n",
              "      gap: 12px;\n",
              "    }\n",
              "\n",
              "    .colab-df-convert {\n",
              "      background-color: #E8F0FE;\n",
              "      border: none;\n",
              "      border-radius: 50%;\n",
              "      cursor: pointer;\n",
              "      display: none;\n",
              "      fill: #1967D2;\n",
              "      height: 32px;\n",
              "      padding: 0 0 0 0;\n",
              "      width: 32px;\n",
              "    }\n",
              "\n",
              "    .colab-df-convert:hover {\n",
              "      background-color: #E2EBFA;\n",
              "      box-shadow: 0px 1px 2px rgba(60, 64, 67, 0.3), 0px 1px 3px 1px rgba(60, 64, 67, 0.15);\n",
              "      fill: #174EA6;\n",
              "    }\n",
              "\n",
              "    [theme=dark] .colab-df-convert {\n",
              "      background-color: #3B4455;\n",
              "      fill: #D2E3FC;\n",
              "    }\n",
              "\n",
              "    [theme=dark] .colab-df-convert:hover {\n",
              "      background-color: #434B5C;\n",
              "      box-shadow: 0px 1px 3px 1px rgba(0, 0, 0, 0.15);\n",
              "      filter: drop-shadow(0px 1px 2px rgba(0, 0, 0, 0.3));\n",
              "      fill: #FFFFFF;\n",
              "    }\n",
              "  </style>\n",
              "\n",
              "      <script>\n",
              "        const buttonEl =\n",
              "          document.querySelector('#df-b7d3c4be-7155-4cb4-b9db-ed08cee7c099 button.colab-df-convert');\n",
              "        buttonEl.style.display =\n",
              "          google.colab.kernel.accessAllowed ? 'block' : 'none';\n",
              "\n",
              "        async function convertToInteractive(key) {\n",
              "          const element = document.querySelector('#df-b7d3c4be-7155-4cb4-b9db-ed08cee7c099');\n",
              "          const dataTable =\n",
              "            await google.colab.kernel.invokeFunction('convertToInteractive',\n",
              "                                                     [key], {});\n",
              "          if (!dataTable) return;\n",
              "\n",
              "          const docLinkHtml = 'Like what you see? Visit the ' +\n",
              "            '<a target=\"_blank\" href=https://colab.research.google.com/notebooks/data_table.ipynb>data table notebook</a>'\n",
              "            + ' to learn more about interactive tables.';\n",
              "          element.innerHTML = '';\n",
              "          dataTable['output_type'] = 'display_data';\n",
              "          await google.colab.output.renderOutput(dataTable, element);\n",
              "          const docLink = document.createElement('div');\n",
              "          docLink.innerHTML = docLinkHtml;\n",
              "          element.appendChild(docLink);\n",
              "        }\n",
              "      </script>\n",
              "    </div>\n",
              "  </div>\n",
              "  "
            ]
          },
          "metadata": {},
          "execution_count": 22
        }
      ]
    },
    {
      "cell_type": "code",
      "source": [
        "df.groupby('target').agg(['mean', 'std']) # 평균, 표준편차만 "
      ],
      "metadata": {
        "colab": {
          "base_uri": "https://localhost:8080/",
          "height": 206
        },
        "id": "xyHWbM1-HQyI",
        "outputId": "96c8c373-93db-4d73-dec5-b333b4695066"
      },
      "execution_count": 23,
      "outputs": [
        {
          "output_type": "execute_result",
          "data": {
            "text/plain": [
              "       sepal length           sepal width           petal length            \\\n",
              "               mean       std        mean       std         mean       std   \n",
              "target                                                                       \n",
              "0             5.006  0.352490       3.428  0.379064        1.462  0.173664   \n",
              "1             5.936  0.516171       2.770  0.313798        4.260  0.469911   \n",
              "2             6.588  0.635880       2.974  0.322497        5.552  0.551895   \n",
              "\n",
              "       petal width            \n",
              "              mean       std  \n",
              "target                        \n",
              "0            0.246  0.105386  \n",
              "1            1.326  0.197753  \n",
              "2            2.026  0.274650  "
            ],
            "text/html": [
              "\n",
              "  <div id=\"df-e0adf7c3-4837-4724-8a82-43928030c19a\">\n",
              "    <div class=\"colab-df-container\">\n",
              "      <div>\n",
              "<style scoped>\n",
              "    .dataframe tbody tr th:only-of-type {\n",
              "        vertical-align: middle;\n",
              "    }\n",
              "\n",
              "    .dataframe tbody tr th {\n",
              "        vertical-align: top;\n",
              "    }\n",
              "\n",
              "    .dataframe thead tr th {\n",
              "        text-align: left;\n",
              "    }\n",
              "\n",
              "    .dataframe thead tr:last-of-type th {\n",
              "        text-align: right;\n",
              "    }\n",
              "</style>\n",
              "<table border=\"1\" class=\"dataframe\">\n",
              "  <thead>\n",
              "    <tr>\n",
              "      <th></th>\n",
              "      <th colspan=\"2\" halign=\"left\">sepal length</th>\n",
              "      <th colspan=\"2\" halign=\"left\">sepal width</th>\n",
              "      <th colspan=\"2\" halign=\"left\">petal length</th>\n",
              "      <th colspan=\"2\" halign=\"left\">petal width</th>\n",
              "    </tr>\n",
              "    <tr>\n",
              "      <th></th>\n",
              "      <th>mean</th>\n",
              "      <th>std</th>\n",
              "      <th>mean</th>\n",
              "      <th>std</th>\n",
              "      <th>mean</th>\n",
              "      <th>std</th>\n",
              "      <th>mean</th>\n",
              "      <th>std</th>\n",
              "    </tr>\n",
              "    <tr>\n",
              "      <th>target</th>\n",
              "      <th></th>\n",
              "      <th></th>\n",
              "      <th></th>\n",
              "      <th></th>\n",
              "      <th></th>\n",
              "      <th></th>\n",
              "      <th></th>\n",
              "      <th></th>\n",
              "    </tr>\n",
              "  </thead>\n",
              "  <tbody>\n",
              "    <tr>\n",
              "      <th>0</th>\n",
              "      <td>5.006</td>\n",
              "      <td>0.352490</td>\n",
              "      <td>3.428</td>\n",
              "      <td>0.379064</td>\n",
              "      <td>1.462</td>\n",
              "      <td>0.173664</td>\n",
              "      <td>0.246</td>\n",
              "      <td>0.105386</td>\n",
              "    </tr>\n",
              "    <tr>\n",
              "      <th>1</th>\n",
              "      <td>5.936</td>\n",
              "      <td>0.516171</td>\n",
              "      <td>2.770</td>\n",
              "      <td>0.313798</td>\n",
              "      <td>4.260</td>\n",
              "      <td>0.469911</td>\n",
              "      <td>1.326</td>\n",
              "      <td>0.197753</td>\n",
              "    </tr>\n",
              "    <tr>\n",
              "      <th>2</th>\n",
              "      <td>6.588</td>\n",
              "      <td>0.635880</td>\n",
              "      <td>2.974</td>\n",
              "      <td>0.322497</td>\n",
              "      <td>5.552</td>\n",
              "      <td>0.551895</td>\n",
              "      <td>2.026</td>\n",
              "      <td>0.274650</td>\n",
              "    </tr>\n",
              "  </tbody>\n",
              "</table>\n",
              "</div>\n",
              "      <button class=\"colab-df-convert\" onclick=\"convertToInteractive('df-e0adf7c3-4837-4724-8a82-43928030c19a')\"\n",
              "              title=\"Convert this dataframe to an interactive table.\"\n",
              "              style=\"display:none;\">\n",
              "        \n",
              "  <svg xmlns=\"http://www.w3.org/2000/svg\" height=\"24px\"viewBox=\"0 0 24 24\"\n",
              "       width=\"24px\">\n",
              "    <path d=\"M0 0h24v24H0V0z\" fill=\"none\"/>\n",
              "    <path d=\"M18.56 5.44l.94 2.06.94-2.06 2.06-.94-2.06-.94-.94-2.06-.94 2.06-2.06.94zm-11 1L8.5 8.5l.94-2.06 2.06-.94-2.06-.94L8.5 2.5l-.94 2.06-2.06.94zm10 10l.94 2.06.94-2.06 2.06-.94-2.06-.94-.94-2.06-.94 2.06-2.06.94z\"/><path d=\"M17.41 7.96l-1.37-1.37c-.4-.4-.92-.59-1.43-.59-.52 0-1.04.2-1.43.59L10.3 9.45l-7.72 7.72c-.78.78-.78 2.05 0 2.83L4 21.41c.39.39.9.59 1.41.59.51 0 1.02-.2 1.41-.59l7.78-7.78 2.81-2.81c.8-.78.8-2.07 0-2.86zM5.41 20L4 18.59l7.72-7.72 1.47 1.35L5.41 20z\"/>\n",
              "  </svg>\n",
              "      </button>\n",
              "      \n",
              "  <style>\n",
              "    .colab-df-container {\n",
              "      display:flex;\n",
              "      flex-wrap:wrap;\n",
              "      gap: 12px;\n",
              "    }\n",
              "\n",
              "    .colab-df-convert {\n",
              "      background-color: #E8F0FE;\n",
              "      border: none;\n",
              "      border-radius: 50%;\n",
              "      cursor: pointer;\n",
              "      display: none;\n",
              "      fill: #1967D2;\n",
              "      height: 32px;\n",
              "      padding: 0 0 0 0;\n",
              "      width: 32px;\n",
              "    }\n",
              "\n",
              "    .colab-df-convert:hover {\n",
              "      background-color: #E2EBFA;\n",
              "      box-shadow: 0px 1px 2px rgba(60, 64, 67, 0.3), 0px 1px 3px 1px rgba(60, 64, 67, 0.15);\n",
              "      fill: #174EA6;\n",
              "    }\n",
              "\n",
              "    [theme=dark] .colab-df-convert {\n",
              "      background-color: #3B4455;\n",
              "      fill: #D2E3FC;\n",
              "    }\n",
              "\n",
              "    [theme=dark] .colab-df-convert:hover {\n",
              "      background-color: #434B5C;\n",
              "      box-shadow: 0px 1px 3px 1px rgba(0, 0, 0, 0.15);\n",
              "      filter: drop-shadow(0px 1px 2px rgba(0, 0, 0, 0.3));\n",
              "      fill: #FFFFFF;\n",
              "    }\n",
              "  </style>\n",
              "\n",
              "      <script>\n",
              "        const buttonEl =\n",
              "          document.querySelector('#df-e0adf7c3-4837-4724-8a82-43928030c19a button.colab-df-convert');\n",
              "        buttonEl.style.display =\n",
              "          google.colab.kernel.accessAllowed ? 'block' : 'none';\n",
              "\n",
              "        async function convertToInteractive(key) {\n",
              "          const element = document.querySelector('#df-e0adf7c3-4837-4724-8a82-43928030c19a');\n",
              "          const dataTable =\n",
              "            await google.colab.kernel.invokeFunction('convertToInteractive',\n",
              "                                                     [key], {});\n",
              "          if (!dataTable) return;\n",
              "\n",
              "          const docLinkHtml = 'Like what you see? Visit the ' +\n",
              "            '<a target=\"_blank\" href=https://colab.research.google.com/notebooks/data_table.ipynb>data table notebook</a>'\n",
              "            + ' to learn more about interactive tables.';\n",
              "          element.innerHTML = '';\n",
              "          dataTable['output_type'] = 'display_data';\n",
              "          await google.colab.output.renderOutput(dataTable, element);\n",
              "          const docLink = document.createElement('div');\n",
              "          docLink.innerHTML = docLinkHtml;\n",
              "          element.appendChild(docLink);\n",
              "        }\n",
              "      </script>\n",
              "    </div>\n",
              "  </div>\n",
              "  "
            ]
          },
          "metadata": {},
          "execution_count": 23
        }
      ]
    },
    {
      "cell_type": "code",
      "source": [
        "import matplotlib.pyplot as plt\n",
        "setosa = df[df.target == 0].iloc[:, :-1]\n",
        "setosa.shape"
      ],
      "metadata": {
        "colab": {
          "base_uri": "https://localhost:8080/"
        },
        "id": "xVaNj1nqHl6v",
        "outputId": "c199b3b7-d839-47bb-c899-57cd93ec998f"
      },
      "execution_count": 24,
      "outputs": [
        {
          "output_type": "execute_result",
          "data": {
            "text/plain": [
              "(50, 4)"
            ]
          },
          "metadata": {},
          "execution_count": 24
        }
      ]
    },
    {
      "cell_type": "code",
      "source": [
        "plt.figure(figsize=(6,6))\n",
        "plt.boxplot(setosa, ) \n",
        "plt.show()\n",
        "# 왜 오류..? 원래는 이게 맞아!! "
      ],
      "metadata": {
        "colab": {
          "base_uri": "https://localhost:8080/",
          "height": 374
        },
        "id": "QuuCF69iI4UH",
        "outputId": "34886850-4bc3-4094-da7c-514a882de320"
      },
      "execution_count": 27,
      "outputs": [
        {
          "output_type": "display_data",
          "data": {
            "text/plain": [
              "<Figure size 432x432 with 1 Axes>"
            ],
            "image/png": "[encoded data removed]"
          },
          "metadata": {
            "needs_background": "light"
          }
        }
      ]
    },
    {
      "cell_type": "code",
      "source": [
        "setosa.T.shape"
      ],
      "metadata": {
        "colab": {
          "base_uri": "https://localhost:8080/"
        },
        "id": "7XrEmqGHJBgo",
        "outputId": "539a1971-0aae-41f7-e409-791e8edfe10e"
      },
      "execution_count": 28,
      "outputs": [
        {
          "output_type": "execute_result",
          "data": {
            "text/plain": [
              "(4, 50)"
            ]
          },
          "metadata": {},
          "execution_count": 28
        }
      ]
    },
    {
      "cell_type": "code",
      "source": [
        "plt.figure(figsize=(6,6))\n",
        "plt.boxplot(setosa.T) # transpose 하면 제대로 나옴 \n",
        "plt.show()\n",
        "\n",
        "# 이상치(outlier) 1.5배만큼 상하단 벗어난 값 \n",
        "# 차트에서 동그라미 ㅎㅎ "
      ],
      "metadata": {
        "colab": {
          "base_uri": "https://localhost:8080/",
          "height": 374
        },
        "id": "60_CtqQSIQQB",
        "outputId": "45cbfd86-e70b-496a-d3d9-6ef827b5d4b9"
      },
      "execution_count": 26,
      "outputs": [
        {
          "output_type": "display_data",
          "data": {
            "text/plain": [
              "<Figure size 432x432 with 1 Axes>"
            ],
            "image/png": "[encoded data removed]"
          },
          "metadata": {
            "needs_background": "light"
          }
        }
      ]
    },
    {
      "cell_type": "code",
      "source": [
        "df.target.value_counts()"
      ],
      "metadata": {
        "colab": {
          "base_uri": "https://localhost:8080/"
        },
        "id": "aefUYiusIaHF",
        "outputId": "da473dc4-18cf-4dcd-8840-d88586aea066"
      },
      "execution_count": 29,
      "outputs": [
        {
          "output_type": "execute_result",
          "data": {
            "text/plain": [
              "0    50\n",
              "1    50\n",
              "2    50\n",
              "Name: target, dtype: int64"
            ]
          },
          "metadata": {},
          "execution_count": 29
        }
      ]
    },
    {
      "cell_type": "markdown",
      "source": [
        "### 2. 학습과 테스트 데이터로 분리"
      ],
      "metadata": {
        "id": "iHRouCnTKOGV"
      }
    },
    {
      "cell_type": "code",
      "source": [
        "from sklearn.model_selection import train_test_split\n",
        "\n",
        "X_train, X_test, Y_train, Y_test = train_test_split(iris.data, iris.target,\n",
        "                                                    random_state=2022)\n",
        "\n",
        "X_train.shape, X_test.shape, Y_train.shape, Y_test.shape\n",
        "# 기본값 => train:test = 3:1  (0.75:0.25)"
      ],
      "metadata": {
        "colab": {
          "base_uri": "https://localhost:8080/"
        },
        "id": "qOoftIasKATz",
        "outputId": "5879fb47-92e1-43d3-ee99-1df088c7abf2"
      },
      "execution_count": 31,
      "outputs": [
        {
          "output_type": "execute_result",
          "data": {
            "text/plain": [
              "((112, 4), (38, 4), (112,), (38,))"
            ]
          },
          "metadata": {},
          "execution_count": 31
        }
      ]
    },
    {
      "cell_type": "code",
      "source": [
        "np.unique(Y_train, return_counts=True) # 이렇게 뽑으면 불균형적인 값들 나옴 "
      ],
      "metadata": {
        "colab": {
          "base_uri": "https://localhost:8080/"
        },
        "id": "wZpzYNPhK_DZ",
        "outputId": "5924e42a-533c-4a91-9084-68f1794eaa08"
      },
      "execution_count": 33,
      "outputs": [
        {
          "output_type": "execute_result",
          "data": {
            "text/plain": [
              "(array([0, 1, 2]), array([37, 38, 37]))"
            ]
          },
          "metadata": {},
          "execution_count": 33
        }
      ]
    },
    {
      "cell_type": "code",
      "source": [
        "# y값을 균등하게 뽑으려면 stratify 옵션 설정 \n",
        "X_train, X_test, Y_train, Y_test = train_test_split(iris.data, iris.target,\n",
        "                                                    stratify=iris.target, random_state=2022)\n",
        "\n",
        "X_train.shape, X_test.shape, Y_train.shape, Y_test.shape # shape은 변하지 않지만 "
      ],
      "metadata": {
        "colab": {
          "base_uri": "https://localhost:8080/"
        },
        "id": "qm8K2JMwLUZv",
        "outputId": "11da73fb-dc3b-4878-9347-00087158a405"
      },
      "execution_count": 35,
      "outputs": [
        {
          "output_type": "execute_result",
          "data": {
            "text/plain": [
              "((112, 4), (38, 4), (112,), (38,))"
            ]
          },
          "metadata": {},
          "execution_count": 35
        }
      ]
    },
    {
      "cell_type": "code",
      "source": [
        "np.unique(Y_train, return_counts=True)  # x,y 균일하게 변함!"
      ],
      "metadata": {
        "colab": {
          "base_uri": "https://localhost:8080/"
        },
        "id": "aPi2gq1Qcw2h",
        "outputId": "329a7c36-152e-42a3-a89c-502fd122402f"
      },
      "execution_count": 36,
      "outputs": [
        {
          "output_type": "execute_result",
          "data": {
            "text/plain": [
              "(array([0, 1, 2]), array([37, 37, 38]))"
            ]
          },
          "metadata": {},
          "execution_count": 36
        }
      ]
    },
    {
      "cell_type": "code",
      "source": [
        "# test size 비율을 20%로 설정\n",
        "X_train, X_test, Y_train, Y_test = train_test_split(iris.data, iris.target,\n",
        "                                                    stratify=iris.target, test_size=0.2, random_state=2022)\n",
        "\n",
        "X_train.shape, X_test.shape, Y_train.shape, Y_test.shape"
      ],
      "metadata": {
        "colab": {
          "base_uri": "https://localhost:8080/"
        },
        "id": "V4YbLcm9c0dT",
        "outputId": "aba9fe44-021d-4915-cbf7-c20745d65d0c"
      },
      "execution_count": 37,
      "outputs": [
        {
          "output_type": "execute_result",
          "data": {
            "text/plain": [
              "((120, 4), (30, 4), (120,), (30,))"
            ]
          },
          "metadata": {},
          "execution_count": 37
        }
      ]
    },
    {
      "cell_type": "code",
      "source": [
        "np.unique(Y_train, return_counts=True) "
      ],
      "metadata": {
        "colab": {
          "base_uri": "https://localhost:8080/"
        },
        "id": "e8yU_bondHP_",
        "outputId": "15de2c80-4126-42c8-f0a6-c55dee8d644f"
      },
      "execution_count": 38,
      "outputs": [
        {
          "output_type": "execute_result",
          "data": {
            "text/plain": [
              "(array([0, 1, 2]), array([40, 40, 40]))"
            ]
          },
          "metadata": {},
          "execution_count": 38
        }
      ]
    },
    {
      "cell_type": "markdown",
      "source": [
        "### 3. 학습"
      ],
      "metadata": {
        "id": "76SL_D3tdM0v"
      }
    },
    {
      "cell_type": "markdown",
      "source": [
        "- 결정 트리(Decision Tree)"
      ],
      "metadata": {
        "id": "Ivm96nH-dSCE"
      }
    },
    {
      "cell_type": "code",
      "source": [
        "from sklearn.tree import DecisionTreeClassifier # 대문자-클래스, 소문자-함수"
      ],
      "metadata": {
        "id": "oHUQjqW7dJtU"
      },
      "execution_count": 39,
      "outputs": []
    },
    {
      "cell_type": "code",
      "source": [
        "# 모델 생성 - 객체 생성 \n",
        "dtc = DecisionTreeClassifier(random_state=2022)"
      ],
      "metadata": {
        "id": "l0yonifIdgSn"
      },
      "execution_count": 41,
      "outputs": []
    },
    {
      "cell_type": "code",
      "source": [
        "# 모델 하이퍼 파라미터\n",
        "dtc.get_params()"
      ],
      "metadata": {
        "colab": {
          "base_uri": "https://localhost:8080/"
        },
        "id": "0a2KKAgPeGA9",
        "outputId": "f79b83d9-5e38-4c90-9645-862247808718"
      },
      "execution_count": 42,
      "outputs": [
        {
          "output_type": "execute_result",
          "data": {
            "text/plain": [
              "{'ccp_alpha': 0.0,\n",
              " 'class_weight': None,\n",
              " 'criterion': 'gini',\n",
              " 'max_depth': None,\n",
              " 'max_features': None,\n",
              " 'max_leaf_nodes': None,\n",
              " 'min_impurity_decrease': 0.0,\n",
              " 'min_samples_leaf': 1,\n",
              " 'min_samples_split': 2,\n",
              " 'min_weight_fraction_leaf': 0.0,\n",
              " 'random_state': 2022,\n",
              " 'splitter': 'best'}"
            ]
          },
          "metadata": {},
          "execution_count": 42
        }
      ]
    },
    {
      "cell_type": "code",
      "source": [
        "# 학습(훈련)\n",
        "dtc.fit(X_train, Y_train) # (데이터 값, 레이블 값)"
      ],
      "metadata": {
        "colab": {
          "base_uri": "https://localhost:8080/"
        },
        "id": "HW5x8mFteOEw",
        "outputId": "98654dec-74e4-472f-ae84-06fb6be2bdc4"
      },
      "execution_count": 46,
      "outputs": [
        {
          "output_type": "execute_result",
          "data": {
            "text/plain": [
              "DecisionTreeClassifier(random_state=2022)"
            ]
          },
          "metadata": {},
          "execution_count": 46
        }
      ]
    },
    {
      "cell_type": "markdown",
      "source": [
        "### 4. 예측"
      ],
      "metadata": {
        "id": "Iwwjy9t3ejCK"
      }
    },
    {
      "cell_type": "code",
      "source": [
        "pred_dt = dtc.predict(X_test) # 예측값과 비교하기 위해서 X 값"
      ],
      "metadata": {
        "id": "CpS0nwT-eWDZ"
      },
      "execution_count": 52,
      "outputs": []
    },
    {
      "cell_type": "code",
      "source": [
        "res = pd.DataFrame({'y':Y_test, 'DT':pred_dt}) # 테스트값, 예측값 \n",
        "res.head()"
      ],
      "metadata": {
        "colab": {
          "base_uri": "https://localhost:8080/",
          "height": 206
        },
        "id": "fCMv6A5Seu8t",
        "outputId": "8dacbb8d-2365-47d4-8950-e82bcaf3f1d3"
      },
      "execution_count": 53,
      "outputs": [
        {
          "output_type": "execute_result",
          "data": {
            "text/plain": [
              "   y  DT\n",
              "0  2   2\n",
              "1  0   0\n",
              "2  1   2\n",
              "3  1   1\n",
              "4  0   0"
            ],
            "text/html": [
              "\n",
              "  <div id=\"df-d7567fe1-d8d0-4eeb-99b9-afc84f6a2f5f\">\n",
              "    <div class=\"colab-df-container\">\n",
              "      <div>\n",
              "<style scoped>\n",
              "    .dataframe tbody tr th:only-of-type {\n",
              "        vertical-align: middle;\n",
              "    }\n",
              "\n",
              "    .dataframe tbody tr th {\n",
              "        vertical-align: top;\n",
              "    }\n",
              "\n",
              "    .dataframe thead th {\n",
              "        text-align: right;\n",
              "    }\n",
              "</style>\n",
              "<table border=\"1\" class=\"dataframe\">\n",
              "  <thead>\n",
              "    <tr style=\"text-align: right;\">\n",
              "      <th></th>\n",
              "      <th>y</th>\n",
              "      <th>DT</th>\n",
              "    </tr>\n",
              "  </thead>\n",
              "  <tbody>\n",
              "    <tr>\n",
              "      <th>0</th>\n",
              "      <td>2</td>\n",
              "      <td>2</td>\n",
              "    </tr>\n",
              "    <tr>\n",
              "      <th>1</th>\n",
              "      <td>0</td>\n",
              "      <td>0</td>\n",
              "    </tr>\n",
              "    <tr>\n",
              "      <th>2</th>\n",
              "      <td>1</td>\n",
              "      <td>2</td>\n",
              "    </tr>\n",
              "    <tr>\n",
              "      <th>3</th>\n",
              "      <td>1</td>\n",
              "      <td>1</td>\n",
              "    </tr>\n",
              "    <tr>\n",
              "      <th>4</th>\n",
              "      <td>0</td>\n",
              "      <td>0</td>\n",
              "    </tr>\n",
              "  </tbody>\n",
              "</table>\n",
              "</div>\n",
              "      <button class=\"colab-df-convert\" onclick=\"convertToInteractive('df-d7567fe1-d8d0-4eeb-99b9-afc84f6a2f5f')\"\n",
              "              title=\"Convert this dataframe to an interactive table.\"\n",
              "              style=\"display:none;\">\n",
              "        \n",
              "  <svg xmlns=\"http://www.w3.org/2000/svg\" height=\"24px\"viewBox=\"0 0 24 24\"\n",
              "       width=\"24px\">\n",
              "    <path d=\"M0 0h24v24H0V0z\" fill=\"none\"/>\n",
              "    <path d=\"M18.56 5.44l.94 2.06.94-2.06 2.06-.94-2.06-.94-.94-2.06-.94 2.06-2.06.94zm-11 1L8.5 8.5l.94-2.06 2.06-.94-2.06-.94L8.5 2.5l-.94 2.06-2.06.94zm10 10l.94 2.06.94-2.06 2.06-.94-2.06-.94-.94-2.06-.94 2.06-2.06.94z\"/><path d=\"M17.41 7.96l-1.37-1.37c-.4-.4-.92-.59-1.43-.59-.52 0-1.04.2-1.43.59L10.3 9.45l-7.72 7.72c-.78.78-.78 2.05 0 2.83L4 21.41c.39.39.9.59 1.41.59.51 0 1.02-.2 1.41-.59l7.78-7.78 2.81-2.81c.8-.78.8-2.07 0-2.86zM5.41 20L4 18.59l7.72-7.72 1.47 1.35L5.41 20z\"/>\n",
              "  </svg>\n",
              "      </button>\n",
              "      \n",
              "  <style>\n",
              "    .colab-df-container {\n",
              "      display:flex;\n",
              "      flex-wrap:wrap;\n",
              "      gap: 12px;\n",
              "    }\n",
              "\n",
              "    .colab-df-convert {\n",
              "      background-color: #E8F0FE;\n",
              "      border: none;\n",
              "      border-radius: 50%;\n",
              "      cursor: pointer;\n",
              "      display: none;\n",
              "      fill: #1967D2;\n",
              "      height: 32px;\n",
              "      padding: 0 0 0 0;\n",
              "      width: 32px;\n",
              "    }\n",
              "\n",
              "    .colab-df-convert:hover {\n",
              "      background-color: #E2EBFA;\n",
              "      box-shadow: 0px 1px 2px rgba(60, 64, 67, 0.3), 0px 1px 3px 1px rgba(60, 64, 67, 0.15);\n",
              "      fill: #174EA6;\n",
              "    }\n",
              "\n",
              "    [theme=dark] .colab-df-convert {\n",
              "      background-color: #3B4455;\n",
              "      fill: #D2E3FC;\n",
              "    }\n",
              "\n",
              "    [theme=dark] .colab-df-convert:hover {\n",
              "      background-color: #434B5C;\n",
              "      box-shadow: 0px 1px 3px 1px rgba(0, 0, 0, 0.15);\n",
              "      filter: drop-shadow(0px 1px 2px rgba(0, 0, 0, 0.3));\n",
              "      fill: #FFFFFF;\n",
              "    }\n",
              "  </style>\n",
              "\n",
              "      <script>\n",
              "        const buttonEl =\n",
              "          document.querySelector('#df-d7567fe1-d8d0-4eeb-99b9-afc84f6a2f5f button.colab-df-convert');\n",
              "        buttonEl.style.display =\n",
              "          google.colab.kernel.accessAllowed ? 'block' : 'none';\n",
              "\n",
              "        async function convertToInteractive(key) {\n",
              "          const element = document.querySelector('#df-d7567fe1-d8d0-4eeb-99b9-afc84f6a2f5f');\n",
              "          const dataTable =\n",
              "            await google.colab.kernel.invokeFunction('convertToInteractive',\n",
              "                                                     [key], {});\n",
              "          if (!dataTable) return;\n",
              "\n",
              "          const docLinkHtml = 'Like what you see? Visit the ' +\n",
              "            '<a target=\"_blank\" href=https://colab.research.google.com/notebooks/data_table.ipynb>data table notebook</a>'\n",
              "            + ' to learn more about interactive tables.';\n",
              "          element.innerHTML = '';\n",
              "          dataTable['output_type'] = 'display_data';\n",
              "          await google.colab.output.renderOutput(dataTable, element);\n",
              "          const docLink = document.createElement('div');\n",
              "          docLink.innerHTML = docLinkHtml;\n",
              "          element.appendChild(docLink);\n",
              "        }\n",
              "      </script>\n",
              "    </div>\n",
              "  </div>\n",
              "  "
            ]
          },
          "metadata": {},
          "execution_count": 53
        }
      ]
    },
    {
      "cell_type": "markdown",
      "source": [
        "### 5. 평가"
      ],
      "metadata": {
        "id": "mqcF6KmNfOZk"
      }
    },
    {
      "cell_type": "code",
      "source": [
        "# 정확도 측정 \n",
        "from sklearn.metrics import accuracy_score\n",
        "\n",
        "accuracy_score(Y_test, pred_dt)"
      ],
      "metadata": {
        "colab": {
          "base_uri": "https://localhost:8080/"
        },
        "id": "Kv-XqDS2fBxA",
        "outputId": "185ba3bc-69ae-4cb3-ada2-1515bba88024"
      },
      "execution_count": 54,
      "outputs": [
        {
          "output_type": "execute_result",
          "data": {
            "text/plain": [
              "0.9333333333333333"
            ]
          },
          "metadata": {},
          "execution_count": 54
        }
      ]
    },
    {
      "cell_type": "markdown",
      "source": [
        "### 예측과 평가 한번에 처리"
      ],
      "metadata": {
        "id": "SrnSYlKEfje3"
      }
    },
    {
      "cell_type": "code",
      "source": [
        "dtc.score(X_test, Y_test)"
      ],
      "metadata": {
        "colab": {
          "base_uri": "https://localhost:8080/"
        },
        "id": "vMHccOGLfcYv",
        "outputId": "b40bdac7-a507-4c7e-f05e-f60717968b70"
      },
      "execution_count": 55,
      "outputs": [
        {
          "output_type": "execute_result",
          "data": {
            "text/plain": [
              "0.9333333333333333"
            ]
          },
          "metadata": {},
          "execution_count": 55
        }
      ]
    },
    {
      "cell_type": "markdown",
      "source": [
        "- Support Vector Machine(SVM)"
      ],
      "metadata": {
        "id": "CrT3jvaqgLR6"
      }
    },
    {
      "cell_type": "code",
      "source": [
        "# 3) 모델 생성 및 학습 \n",
        "from sklearn.svm import SVC # 사용 모델의 차이점만 있음. 나머지 과정은 동일 \n",
        "\n",
        "scv = SVC(random_state=2022)\n",
        "scv.fit(X_train, Y_train)"
      ],
      "metadata": {
        "colab": {
          "base_uri": "https://localhost:8080/"
        },
        "id": "fW59UEy2fs0z",
        "outputId": "e7958343-b0f8-427c-8aea-84f53f7e5382"
      },
      "execution_count": 56,
      "outputs": [
        {
          "output_type": "execute_result",
          "data": {
            "text/plain": [
              "SVC(random_state=2022)"
            ]
          },
          "metadata": {},
          "execution_count": 56
        }
      ]
    },
    {
      "cell_type": "code",
      "source": [
        "# 4) 예측\n",
        "pred_sv = scv.predict(X_test)"
      ],
      "metadata": {
        "id": "epV3w3X7giBW"
      },
      "execution_count": 58,
      "outputs": []
    },
    {
      "cell_type": "code",
      "source": [
        "# 5) 평가\n",
        "accuracy_score(Y_test, pred_sv)"
      ],
      "metadata": {
        "colab": {
          "base_uri": "https://localhost:8080/"
        },
        "id": "zV7ID60tgqVP",
        "outputId": "e9e78d77-b7fc-4c46-9d9c-5774da58b299"
      },
      "execution_count": 59,
      "outputs": [
        {
          "output_type": "execute_result",
          "data": {
            "text/plain": [
              "0.9333333333333333"
            ]
          },
          "metadata": {},
          "execution_count": 59
        }
      ]
    },
    {
      "cell_type": "markdown",
      "source": [
        "- Logotocs Regression (로지스틱 회귀공식)"
      ],
      "metadata": {
        "id": "0NsiLlJchfy7"
      }
    },
    {
      "cell_type": "markdown",
      "source": [
        "\n",
        "\n",
        "![image.png](data:image/png;base64,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)"
      ],
      "metadata": {
        "id": "HXUlRRJShApW"
      }
    },
    {
      "cell_type": "code",
      "source": [
        "# 3) 모델 생성 및 학습 \n",
        "from sklearn.linear_model import LogisticRegression\n",
        "\n",
        "lrc = LogisticRegression(random_state=2022, max_iter=500) # max_iter=500 -> 스케일이 다를 경우 시간소요가 오래 걸려서 max_iter 필요\n",
        "lrc.fit(X_train, Y_train)"
      ],
      "metadata": {
        "colab": {
          "base_uri": "https://localhost:8080/"
        },
        "id": "E3yRmQz_g1Cx",
        "outputId": "3816638b-cfe5-410f-c474-c5febb93a404"
      },
      "execution_count": 60,
      "outputs": [
        {
          "output_type": "execute_result",
          "data": {
            "text/plain": [
              "LogisticRegression(max_iter=500, random_state=2022)"
            ]
          },
          "metadata": {},
          "execution_count": 60
        }
      ]
    },
    {
      "cell_type": "code",
      "source": [
        "# 4) 예측 \n",
        "pred_lr = lrc.predict(X_test)"
      ],
      "metadata": {
        "id": "MHJAUFwfiNMc"
      },
      "execution_count": 61,
      "outputs": []
    },
    {
      "cell_type": "code",
      "source": [
        "# 5) 평가\n",
        "accuracy_score(Y_test, pred_lr)"
      ],
      "metadata": {
        "colab": {
          "base_uri": "https://localhost:8080/"
        },
        "id": "dZILwBCqibY4",
        "outputId": "0f4f7afc-34be-4208-aed1-e734fc54f54e"
      },
      "execution_count": 62,
      "outputs": [
        {
          "output_type": "execute_result",
          "data": {
            "text/plain": [
              "0.9333333333333333"
            ]
          },
          "metadata": {},
          "execution_count": 62
        }
      ]
    },
    {
      "cell_type": "code",
      "source": [
        "# 여기 참고 참고~~\n",
        "lrc2 = LogisticRegression(random_state=2022)\n",
        "lrc2.fit(X_train, Y_train)    \n",
        "#=> 에러!! 100번이 기본값이지만, 부족해서 늘려줘야해\n",
        "# 사실 좋은 방법은 아님 ㅠㅠ                     "
      ],
      "metadata": {
        "colab": {
          "base_uri": "https://localhost:8080/"
        },
        "id": "s5sU2R-viiNZ",
        "outputId": "a93d08d0-9b18-4b84-f7ec-e87435f739bc"
      },
      "execution_count": 64,
      "outputs": [
        {
          "output_type": "stream",
          "name": "stderr",
          "text": [
            "/usr/local/lib/python3.7/dist-packages/sklearn/linear_model/_logistic.py:818: ConvergenceWarning: lbfgs failed to converge (status=1):\n",
            "STOP: TOTAL NO. of ITERATIONS REACHED LIMIT.\n",
            "\n",
            "Increase the number of iterations (max_iter) or scale the data as shown in:\n",
            "    https://scikit-learn.org/stable/modules/preprocessing.html\n",
            "Please also refer to the documentation for alternative solver options:\n",
            "    https://scikit-learn.org/stable/modules/linear_model.html#logistic-regression\n",
            "  extra_warning_msg=_LOGISTIC_SOLVER_CONVERGENCE_MSG,\n"
          ]
        },
        {
          "output_type": "execute_result",
          "data": {
            "text/plain": [
              "LogisticRegression(random_state=2022)"
            ]
          },
          "metadata": {},
          "execution_count": 64
        }
      ]
    },
    {
      "cell_type": "code",
      "source": [
        "from sklearn.preprocessing import MinMaxScaler # 스케일 변경해줌 0~1 -> 0~100 이런식?\n",
        "iris_scaled = MinMaxScaler().fit_transform(iris.data) # 0~1 사이 값으로 스케일 변경해줌 "
      ],
      "metadata": {
        "id": "qi4K8hq0ir5S"
      },
      "execution_count": 65,
      "outputs": []
    },
    {
      "cell_type": "code",
      "source": [
        "iris_scaled[:5] "
      ],
      "metadata": {
        "colab": {
          "base_uri": "https://localhost:8080/"
        },
        "id": "CYVsWDj0jpN8",
        "outputId": "d6c9ee95-935d-4c3b-aeae-c3aecf1a2f60"
      },
      "execution_count": 66,
      "outputs": [
        {
          "output_type": "execute_result",
          "data": {
            "text/plain": [
              "array([[0.22222222, 0.625     , 0.06779661, 0.04166667],\n",
              "       [0.16666667, 0.41666667, 0.06779661, 0.04166667],\n",
              "       [0.11111111, 0.5       , 0.05084746, 0.04166667],\n",
              "       [0.08333333, 0.45833333, 0.08474576, 0.04166667],\n",
              "       [0.19444444, 0.66666667, 0.06779661, 0.04166667]])"
            ]
          },
          "metadata": {},
          "execution_count": 66
        }
      ]
    },
    {
      "cell_type": "code",
      "source": [
        "#X_train2, X_test2, y_train, y_test\n",
        "# 리턴값으로 사용하지 않을 경우\n",
        "X_train2, X_test2, _, _ = train_test_split(iris_scaled, iris.target, \n",
        "                                           stratify=iris.target, test_size=0.2, random_state=2022) "
      ],
      "metadata": {
        "id": "Y5QQYweSjtxi"
      },
      "execution_count": 67,
      "outputs": []
    },
    {
      "cell_type": "code",
      "source": [
        "X_train2.shape , X_test2.shape\n",
        "# 여기까지는 참고 참고~~"
      ],
      "metadata": {
        "colab": {
          "base_uri": "https://localhost:8080/"
        },
        "id": "jCLeycQClCJE",
        "outputId": "e8c3d117-0e92-4be1-b761-d59da1b4a82d"
      },
      "execution_count": 68,
      "outputs": [
        {
          "output_type": "execute_result",
          "data": {
            "text/plain": [
              "((120, 4), (30, 4))"
            ]
          },
          "metadata": {},
          "execution_count": 68
        }
      ]
    },
    {
      "cell_type": "markdown",
      "source": [
        "- 3가지 모델 비교\n",
        "결정트리(DT), 서포트벡터머신(SVM), 로지스틱스 회귀(LR)"
      ],
      "metadata": {
        "id": "JX4_zUNylJcQ"
      }
    },
    {
      "cell_type": "code",
      "source": [
        "dtc.score(X_test, Y_test), scv.score(X_test, Y_test), lrc.score(X_test, Y_test) # 원래 svc 인뎅,, 잘못 지정해줌ㅎㅎ"
      ],
      "metadata": {
        "colab": {
          "base_uri": "https://localhost:8080/"
        },
        "id": "fBdPs5BRlIAc",
        "outputId": "8a1ef148-109e-4ca8-8866-24d986b92cd2"
      },
      "execution_count": 71,
      "outputs": [
        {
          "output_type": "execute_result",
          "data": {
            "text/plain": [
              "(0.9333333333333333, 0.9333333333333333, 0.9333333333333333)"
            ]
          },
          "metadata": {},
          "execution_count": 71
        }
      ]
    },
    {
      "cell_type": "code",
      "source": [
        "res['SV'] = pred_sv\n",
        "res['LR'] = pred_lr\n",
        "res.head()"
      ],
      "metadata": {
        "colab": {
          "base_uri": "https://localhost:8080/",
          "height": 206
        },
        "id": "3AkoRr3LlhME",
        "outputId": "6ec22c97-76c4-4ff6-d454-0f29514de800"
      },
      "execution_count": 72,
      "outputs": [
        {
          "output_type": "execute_result",
          "data": {
            "text/plain": [
              "   y  DT  SV  LR\n",
              "0  2   2   2   2\n",
              "1  0   0   0   0\n",
              "2  1   2   2   2\n",
              "3  1   1   1   1\n",
              "4  0   0   0   0"
            ],
            "text/html": [
              "\n",
              "  <div id=\"df-9ce0691b-2c2c-49b0-9f31-ce03547c6daa\">\n",
              "    <div class=\"colab-df-container\">\n",
              "      <div>\n",
              "<style scoped>\n",
              "    .dataframe tbody tr th:only-of-type {\n",
              "        vertical-align: middle;\n",
              "    }\n",
              "\n",
              "    .dataframe tbody tr th {\n",
              "        vertical-align: top;\n",
              "    }\n",
              "\n",
              "    .dataframe thead th {\n",
              "        text-align: right;\n",
              "    }\n",
              "</style>\n",
              "<table border=\"1\" class=\"dataframe\">\n",
              "  <thead>\n",
              "    <tr style=\"text-align: right;\">\n",
              "      <th></th>\n",
              "      <th>y</th>\n",
              "      <th>DT</th>\n",
              "      <th>SV</th>\n",
              "      <th>LR</th>\n",
              "    </tr>\n",
              "  </thead>\n",
              "  <tbody>\n",
              "    <tr>\n",
              "      <th>0</th>\n",
              "      <td>2</td>\n",
              "      <td>2</td>\n",
              "      <td>2</td>\n",
              "      <td>2</td>\n",
              "    </tr>\n",
              "    <tr>\n",
              "      <th>1</th>\n",
              "      <td>0</td>\n",
              "      <td>0</td>\n",
              "      <td>0</td>\n",
              "      <td>0</td>\n",
              "    </tr>\n",
              "    <tr>\n",
              "      <th>2</th>\n",
              "      <td>1</td>\n",
              "      <td>2</td>\n",
              "      <td>2</td>\n",
              "      <td>2</td>\n",
              "    </tr>\n",
              "    <tr>\n",
              "      <th>3</th>\n",
              "      <td>1</td>\n",
              "      <td>1</td>\n",
              "      <td>1</td>\n",
              "      <td>1</td>\n",
              "    </tr>\n",
              "    <tr>\n",
              "      <th>4</th>\n",
              "      <td>0</td>\n",
              "      <td>0</td>\n",
              "      <td>0</td>\n",
              "      <td>0</td>\n",
              "    </tr>\n",
              "  </tbody>\n",
              "</table>\n",
              "</div>\n",
              "      <button class=\"colab-df-convert\" onclick=\"convertToInteractive('df-9ce0691b-2c2c-49b0-9f31-ce03547c6daa')\"\n",
              "              title=\"Convert this dataframe to an interactive table.\"\n",
              "              style=\"display:none;\">\n",
              "        \n",
              "  <svg xmlns=\"http://www.w3.org/2000/svg\" height=\"24px\"viewBox=\"0 0 24 24\"\n",
              "       width=\"24px\">\n",
              "    <path d=\"M0 0h24v24H0V0z\" fill=\"none\"/>\n",
              "    <path d=\"M18.56 5.44l.94 2.06.94-2.06 2.06-.94-2.06-.94-.94-2.06-.94 2.06-2.06.94zm-11 1L8.5 8.5l.94-2.06 2.06-.94-2.06-.94L8.5 2.5l-.94 2.06-2.06.94zm10 10l.94 2.06.94-2.06 2.06-.94-2.06-.94-.94-2.06-.94 2.06-2.06.94z\"/><path d=\"M17.41 7.96l-1.37-1.37c-.4-.4-.92-.59-1.43-.59-.52 0-1.04.2-1.43.59L10.3 9.45l-7.72 7.72c-.78.78-.78 2.05 0 2.83L4 21.41c.39.39.9.59 1.41.59.51 0 1.02-.2 1.41-.59l7.78-7.78 2.81-2.81c.8-.78.8-2.07 0-2.86zM5.41 20L4 18.59l7.72-7.72 1.47 1.35L5.41 20z\"/>\n",
              "  </svg>\n",
              "      </button>\n",
              "      \n",
              "  <style>\n",
              "    .colab-df-container {\n",
              "      display:flex;\n",
              "      flex-wrap:wrap;\n",
              "      gap: 12px;\n",
              "    }\n",
              "\n",
              "    .colab-df-convert {\n",
              "      background-color: #E8F0FE;\n",
              "      border: none;\n",
              "      border-radius: 50%;\n",
              "      cursor: pointer;\n",
              "      display: none;\n",
              "      fill: #1967D2;\n",
              "      height: 32px;\n",
              "      padding: 0 0 0 0;\n",
              "      width: 32px;\n",
              "    }\n",
              "\n",
              "    .colab-df-convert:hover {\n",
              "      background-color: #E2EBFA;\n",
              "      box-shadow: 0px 1px 2px rgba(60, 64, 67, 0.3), 0px 1px 3px 1px rgba(60, 64, 67, 0.15);\n",
              "      fill: #174EA6;\n",
              "    }\n",
              "\n",
              "    [theme=dark] .colab-df-convert {\n",
              "      background-color: #3B4455;\n",
              "      fill: #D2E3FC;\n",
              "    }\n",
              "\n",
              "    [theme=dark] .colab-df-convert:hover {\n",
              "      background-color: #434B5C;\n",
              "      box-shadow: 0px 1px 3px 1px rgba(0, 0, 0, 0.15);\n",
              "      filter: drop-shadow(0px 1px 2px rgba(0, 0, 0, 0.3));\n",
              "      fill: #FFFFFF;\n",
              "    }\n",
              "  </style>\n",
              "\n",
              "      <script>\n",
              "        const buttonEl =\n",
              "          document.querySelector('#df-9ce0691b-2c2c-49b0-9f31-ce03547c6daa button.colab-df-convert');\n",
              "        buttonEl.style.display =\n",
              "          google.colab.kernel.accessAllowed ? 'block' : 'none';\n",
              "\n",
              "        async function convertToInteractive(key) {\n",
              "          const element = document.querySelector('#df-9ce0691b-2c2c-49b0-9f31-ce03547c6daa');\n",
              "          const dataTable =\n",
              "            await google.colab.kernel.invokeFunction('convertToInteractive',\n",
              "                                                     [key], {});\n",
              "          if (!dataTable) return;\n",
              "\n",
              "          const docLinkHtml = 'Like what you see? Visit the ' +\n",
              "            '<a target=\"_blank\" href=https://colab.research.google.com/notebooks/data_table.ipynb>data table notebook</a>'\n",
              "            + ' to learn more about interactive tables.';\n",
              "          element.innerHTML = '';\n",
              "          dataTable['output_type'] = 'display_data';\n",
              "          await google.colab.output.renderOutput(dataTable, element);\n",
              "          const docLink = document.createElement('div');\n",
              "          docLink.innerHTML = docLinkHtml;\n",
              "          element.appendChild(docLink);\n",
              "        }\n",
              "      </script>\n",
              "    </div>\n",
              "  </div>\n",
              "  "
            ]
          },
          "metadata": {},
          "execution_count": 72
        }
      ]
    },
    {
      "cell_type": "code",
      "source": [
        ""
      ],
      "metadata": {
        "id": "x89nWMvDl20J"
      },
      "execution_count": null,
      "outputs": []
    }
  ]
}